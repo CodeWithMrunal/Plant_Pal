{
 "cells": [
  {
   "cell_type": "code",
   "execution_count": 2,
   "metadata": {},
   "outputs": [],
   "source": [
    "import requests"
   ]
  },
  {
   "attachments": {},
   "cell_type": "markdown",
   "metadata": {},
   "source": [
    "## **Step 2: Authentication**\n",
    "\n",
    "\n",
    "To use the Saaras API, you need an API subscription key. Follow these steps to set up your API key:\n",
    "\n",
    "1. **Obtain your API key**: If you don’t have an API key, sign up on the [Sarvam AI Dashboard](https://dashboard.sarvam.ai/) to get one.\n",
    "2. **Replace the placeholder key**: In the code below, replace \"YOUR_SARVAM_AI_API_KEY\" with your actual API key."
   ]
  },
  {
   "cell_type": "code",
   "execution_count": 3,
   "metadata": {},
   "outputs": [],
   "source": [
    "SARVAM_API_KEY = \"1c4070b8-7078-4aa2-b45b-14ce2fdf5eb5\""
   ]
  },
  {
   "attachments": {},
   "cell_type": "markdown",
   "metadata": {},
   "source": [
    "### **Step 3.3: Setting up the API Endpoint** \n",
    "\n",
    "There are three main types of translations we support:  \n",
    "\n",
    "1️⃣ **English to Indic** 🏛 → Translating from **English to Indian languages** (e.g., *\"Invoice total is $3,450.75.\" → \"इनवॉइस कुल राशि $3,450.75 है।\"*)  \n",
    "\n",
    "2️⃣ **Indic to English** 🌍 → Converting **Indian languages to English** (e.g., *\"आपका ऑर्डर सफलतापूर्वक दर्ज किया गया है।\" → \"Your order has been successfully placed.\"*)  \n",
    "\n",
    "3️⃣ **Indic to Indic** 🔄 → Translating **between Indian languages** (e.g., *Hindi → Tamil, Bengali → Marathi*).  \n"
   ]
  },
  {
   "attachments": {},
   "cell_type": "markdown",
   "metadata": {},
   "source": [
    "### **Eng to Indic Translation**  "
   ]
  },
  {
   "cell_type": "code",
   "execution_count": null,
   "metadata": {},
   "outputs": [
    {
     "name": "stdout",
     "output_type": "stream",
     "text": [
      "\n",
      "=== Translated Chunk 1 ===\n",
      "Artificial Intelligence ਦਾ ਸਮਾਜ 'ਤੇ ਅਸਰ\n",
      "\n",
      "Artificial Intelligence (AI) 21st century ਦੀਆਂ ਸਭ ਤੋਂ ਵੱਡੀਆਂ technologies ਵਿੱਚੋਂ ਇੱਕ ਬਣ ਗਈ ਹੈ, ਜੋ ਮਨੁੱਖੀ ਜੀਵਨ ਦੇ ਕਈ ਪਹਿਲੂਆਂ ਵਿੱਚ ਕ੍ਰਾਂਤੀ ਲਿਆ ਰਹੀ ਹੈ। Healthcare ਤੋਂ ਲੈ ਕੇ finance, transportation ਤੋਂ ਲੈ ਕੇ education ਤੱਕ, AI industries ਨੂੰ ਬਦਲ ਰਿਹਾ ਹੈ, processes ਨੂੰ automate ਕਰ ਰਿਹਾ ਹੈ, ਅਤੇ ਮਨੁੱਖੀ ਯੋਗਤਾਵਾਂ ਨੂੰ ਵਧਾ ਰਿਹਾ ਹੈ। AI ਦੇ ਬਹੁਤ ਸਾਰੇ ਫਾਇਦੇ ਹਨ, ਪਰ ਇਸਦੇ ਨਾਲ ethical, economic ਅਤੇ societal concerns ਵੀ ਹਨ ਜਿਨ੍ਹਾਂ ਨੂੰ ਧਿਆਨ ਨਾਲ ਹੱਲ ਕਰਨਾ ਚਾਹੀਦਾ ਹੈ ਤਾਂ ਜੋ ਇਸਨੂੰ ਸਮਾਜ ਵਿੱਚ ਜ਼ਿੰਮੇਵਾਰੀ ਨਾਲ ਸ਼ਾਮਲ ਕੀਤਾ ਜਾ ਸਕੇ।\n",
      "\n",
      "AI ਦਾ ਸਭ ਤੋਂ ਵੱਡਾ ਪ੍ਰਭਾਵ healthcare ਦੇ ਖੇਤਰ ਵਿੱਚ ਹੈ। AI-powered diagnostic tools ਨਾਲ ਬਿਮਾਰੀ ਪਹਿਲਾਂ ਹੀ ਪਤਾ ਲੱਗ ਜਾਂਦੀ ਹੈ, ਜਿਸ ਨਾਲ ਮਰੀਜ਼ਾਂ ਦੇ ਨਤੀਜੇ ਚੰਗੇ ਹੁੰਦੇ ਹਨ ਅਤੇ healthcare cost ਘੱਟ ਹੁੰਦਾ ਹੈ। Machine learning algorithms medical data ਨੂੰ analyze ਕਰਕੇ patterns ਲੱਭਦੇ ਹਨ ਜੋ ਮਨੁੱਖ ਨਹੀਂ ਦੇਖ ਸਕਦੇ, ਜਿਸ ਨਾਲ personalized treatment plans ਵਿੱਚ ਮਦਦ ਮਿਲਦੀ ਹੈ। Robotic surgeries ਅਤੇ AI-driven drug discoveries ਨੇ medical procedures ਦੀ efficiency ਹੋਰ ਵਧਾ ਦਿੱਤੀ ਹੈ। ਪਰ, AI ਦਾ integration\n",
      "\n",
      "\n",
      "=== Translated Chunk 2 ===\n",
      "healthcare ਵਿੱਚ data privacy, security ਅਤੇ medical decision-making ਵਿੱਚ potential biases ਬਾਰੇ ਚਿੰਤਾਵਾਂ ਹਨ।\n",
      "\n",
      "\n",
      "=== Final Translated Text ===\n",
      "Artificial Intelligence ਦਾ ਸਮਾਜ 'ਤੇ ਅਸਰ\n",
      "\n",
      "Artificial Intelligence (AI) 21st century ਦੀਆਂ ਸਭ ਤੋਂ ਵੱਡੀਆਂ technologies ਵਿੱਚੋਂ ਇੱਕ ਬਣ ਗਈ ਹੈ, ਜੋ ਮਨੁੱਖੀ ਜੀਵਨ ਦੇ ਕਈ ਪਹਿਲੂਆਂ ਵਿੱਚ ਕ੍ਰਾਂਤੀ ਲਿਆ ਰਹੀ ਹੈ। Healthcare ਤੋਂ ਲੈ ਕੇ finance, transportation ਤੋਂ ਲੈ ਕੇ education ਤੱਕ, AI industries ਨੂੰ ਬਦਲ ਰਿਹਾ ਹੈ, processes ਨੂੰ automate ਕਰ ਰਿਹਾ ਹੈ, ਅਤੇ ਮਨੁੱਖੀ ਯੋਗਤਾਵਾਂ ਨੂੰ ਵਧਾ ਰਿਹਾ ਹੈ। AI ਦੇ ਬਹੁਤ ਸਾਰੇ ਫਾਇਦੇ ਹਨ, ਪਰ ਇਸਦੇ ਨਾਲ ethical, economic ਅਤੇ societal concerns ਵੀ ਹਨ ਜਿਨ੍ਹਾਂ ਨੂੰ ਧਿਆਨ ਨਾਲ ਹੱਲ ਕਰਨਾ ਚਾਹੀਦਾ ਹੈ ਤਾਂ ਜੋ ਇਸਨੂੰ ਸਮਾਜ ਵਿੱਚ ਜ਼ਿੰਮੇਵਾਰੀ ਨਾਲ ਸ਼ਾਮਲ ਕੀਤਾ ਜਾ ਸਕੇ।\n",
      "\n",
      "AI ਦਾ ਸਭ ਤੋਂ ਵੱਡਾ ਪ੍ਰਭਾਵ healthcare ਦੇ ਖੇਤਰ ਵਿੱਚ ਹੈ। AI-powered diagnostic tools ਨਾਲ ਬਿਮਾਰੀ ਪਹਿਲਾਂ ਹੀ ਪਤਾ ਲੱਗ ਜਾਂਦੀ ਹੈ, ਜਿਸ ਨਾਲ ਮਰੀਜ਼ਾਂ ਦੇ ਨਤੀਜੇ ਚੰਗੇ ਹੁੰਦੇ ਹਨ ਅਤੇ healthcare cost ਘੱਟ ਹੁੰਦਾ ਹੈ। Machine learning algorithms medical data ਨੂੰ analyze ਕਰਕੇ patterns ਲੱਭਦੇ ਹਨ ਜੋ ਮਨੁੱਖ ਨਹੀਂ ਦੇਖ ਸਕਦੇ, ਜਿਸ ਨਾਲ personalized treatment plans ਵਿੱਚ ਮਦਦ ਮਿਲਦੀ ਹੈ। Robotic surgeries ਅਤੇ AI-driven drug discoveries ਨੇ medical procedures ਦੀ efficiency ਹੋਰ ਵਧਾ ਦਿੱਤੀ ਹੈ। ਪਰ, AI ਦਾ integration\n",
      "healthcare ਵਿੱਚ data privacy, security ਅਤੇ medical decision-making ਵਿੱਚ potential biases ਬਾਰੇ ਚਿੰਤਾਵਾਂ ਹਨ।\n"
     ]
    }
   ],
   "source": [
    "# Define API request details\n",
    "url = \"https://api.sarvam.ai/translate\"\n",
    "headers = {\n",
    "    \"api-subscription-key\": SARVAM_API_KEY,\n",
    "    \"Content-Type\": \"application/json\"\n",
    "}\n",
    "\n",
    "# Send requests for each chunk\n",
    "translated_texts = []\n",
    "for idx, chunk in enumerate(english_text_chunks):\n",
    "    payload = {\n",
    "        \"source_language_code\": \"en-IN\",\n",
    "        \"target_language_code\": \"hi-IN\",\n",
    "        \"speaker_gender\": \"Male\",\n",
    "        \"mode\": \"modern-colloquial\",\n",
    "        \"model\": \"mayura:v1\",\n",
    "        \"enable_preprocessing\": False,\n",
    "        \"numerals_format\": \"international\",\n",
    "        \"output_script\":\"fully-native\",\n",
    "        \"input\": chunk\n",
    "    }\n",
    "\n",
    "    response = requests.post(url, json=payload, headers=headers)\n",
    "\n",
    "    if response.status_code == 200:\n",
    "        translated_text = response.json().get(\"translated_text\", \"Translation not available\")\n",
    "        translated_texts.append(translated_text)\n",
    "        print(f\"\\n=== Translated Chunk {idx + 1} ===\\n{translated_text}\\n\")\n",
    "    else:\n",
    "        print(f\"Error: {response.status_code}, {response.text}\")\n",
    "\n",
    "# Combine all translated chunks\n",
    "final_translation = \"\\n\".join(translated_texts)\n",
    "print(\"\\n=== Final Translated Text ===\")\n",
    "print(final_translation)"
   ]
  }
 ],
 "metadata": {
  "kernelspec": {
   "display_name": "Python 3",
   "language": "python",
   "name": "python3"
  },
  "language_info": {
   "codemirror_mode": {
    "name": "ipython",
    "version": 3
   },
   "file_extension": ".py",
   "mimetype": "text/x-python",
   "name": "python",
   "nbconvert_exporter": "python",
   "pygments_lexer": "ipython3",
   "version": "3.12.0"
  },
  "orig_nbformat": 4
 },
 "nbformat": 4,
 "nbformat_minor": 2
}
