{
 "cells": [
  {
   "attachments": {},
   "cell_type": "markdown",
   "metadata": {},
   "source": [
    "# **Sarvam Translate API Tutorial**\n",
    "\n",
    "This notebook demonstrates how to use the **Sarvam translate API** to translate texts/paragraphs from one language to another. The API supports additional features such as transliteration(a type of conversion of a text from one script to another that involves swapping letters), output_Script and gender .\n",
    "\n",
    "\n",
    "## **Table of Contents**  \n",
    "\n",
    "<p>1. <a href=\"#installation\">Installation</a></p>  \n",
    "<p>2. <a href=\"#authentication\">Authentication</a></p>  \n",
    "<p>3. <a href=\"#basic-usage\">Basic Usage</a></p>  \n",
    "<p>4. <a href=\"#modes\">Modes</a></p>  \n",
    "<p>5. <a href=\"#advanced-features\">Advanced Features</a></p>  \n",
    "   <p>&nbsp;&nbsp;&nbsp;&nbsp;5.1 <a href=\"#numeral-format\">Numeral Format</a></p>  \n",
    "   <p>&nbsp;&nbsp;&nbsp;&nbsp;5.2 <a href=\"#transliteration\">Transliteration</a></p>  \n",
    "   <p>&nbsp;&nbsp;&nbsp;&nbsp;5.3 <a href=\"#speaker-gender\">Speaker Gender</a></p>  \n",
    "<p>6. <a href=\"#error-handling\">Error Handling</a></p>  \n",
    "<p>7. <a href=\"#conclusion\">Conclusion</a></p>  \n",
    "\n",
    "\n",
    "\n"
   ]
  },
  {
   "attachments": {},
   "cell_type": "markdown",
   "metadata": {},
   "source": [
    "## **Step 1. Installation**\n",
    "\n",
    "Before you begin, ensure you have the necessary Python libraries installed. Run the following commands to install the required packages:"
   ]
  },
  {
   "cell_type": "code",
   "execution_count": 1,
   "metadata": {},
   "outputs": [
    {
     "name": "stdout",
     "output_type": "stream",
     "text": [
      "Defaulting to user installation because normal site-packages is not writeable\n",
      "Requirement already satisfied: requests in c:\\users\\prajw\\appdata\\roaming\\python\\python312\\site-packages (2.31.0)\n",
      "Requirement already satisfied: charset-normalizer<4,>=2 in c:\\users\\prajw\\appdata\\roaming\\python\\python312\\site-packages (from requests) (3.3.2)\n",
      "Requirement already satisfied: idna<4,>=2.5 in c:\\users\\prajw\\appdata\\roaming\\python\\python312\\site-packages (from requests) (3.6)\n",
      "Requirement already satisfied: urllib3<3,>=1.21.1 in c:\\users\\prajw\\appdata\\roaming\\python\\python312\\site-packages (from requests) (2.2.1)\n",
      "Requirement already satisfied: certifi>=2017.4.17 in c:\\users\\prajw\\appdata\\roaming\\python\\python312\\site-packages (from requests) (2025.1.31)\n"
     ]
    }
   ],
   "source": [
    "! pip install requests"
   ]
  },
  {
   "cell_type": "code",
   "execution_count": 2,
   "metadata": {},
   "outputs": [],
   "source": [
    "import requests"
   ]
  },
  {
   "attachments": {},
   "cell_type": "markdown",
   "metadata": {},
   "source": [
    "## **Step 2: Authentication**\n",
    "\n",
    "\n",
    "To use the Saaras API, you need an API subscription key. Follow these steps to set up your API key:\n",
    "\n",
    "1. **Obtain your API key**: If you don’t have an API key, sign up on the [Sarvam AI Dashboard](https://dashboard.sarvam.ai/) to get one.\n",
    "2. **Replace the placeholder key**: In the code below, replace \"YOUR_SARVAM_AI_API_KEY\" with your actual API key."
   ]
  },
  {
   "cell_type": "code",
   "execution_count": 3,
   "metadata": {},
   "outputs": [],
   "source": [
    "SARVAM_API_KEY = \"d2eaed29-eb3f-4659-b15b-bb9a50136780\""
   ]
  },
  {
   "attachments": {},
   "cell_type": "markdown",
   "metadata": {},
   "source": [
    "## **Step 3: Basic Usage**\n"
   ]
  },
  {
   "attachments": {},
   "cell_type": "markdown",
   "metadata": {},
   "source": [
    "### **Step 3.1: Read the Document**\n",
    "\n",
    "We have two sample documents under the `data` folder:  \n",
    "- `sample1.txt` contains an essay on *The Impact of Artificial Intelligence on Society* in English.  \n",
    "- `sample1.txt` contains an essay on *The Impact of Artificial Intelligence on Society* in Hindi.  "
   ]
  },
  {
   "cell_type": "code",
   "execution_count": 4,
   "metadata": {},
   "outputs": [],
   "source": [
    "def read_file(file_path, lang_name):\n",
    "    try:\n",
    "        with open(file_path, \"r\", encoding=\"utf-8\") as file:\n",
    "            # Read the first 5 lines\n",
    "            lines = [next(file) for _ in range(5)]\n",
    "            print(f\"=== {lang_name} Text (First Few Lines) ===\")\n",
    "            print(\"\".join(lines))  # Print first few lines\n",
    "\n",
    "            # Read the remaining content\n",
    "            remaining_text = file.read()\n",
    "\n",
    "            # Combine all text\n",
    "            full_doc = \"\".join(lines) + remaining_text\n",
    "\n",
    "            # Count total characters\n",
    "            total_chars = len(full_doc)\n",
    "            print(f\"\\nTotal number of characters in {lang_name} file:\", total_chars)\n",
    "\n",
    "            return full_doc\n",
    "    except FileNotFoundError:\n",
    "        print(f\"Error: {file_path} not found.\")\n",
    "        return None\n",
    "    except Exception as e:\n",
    "        print(f\"An error occurred while reading {file_path}: {e}\")\n",
    "        return None"
   ]
  },
  {
   "cell_type": "code",
   "execution_count": 5,
   "metadata": {},
   "outputs": [
    {
     "name": "stdout",
     "output_type": "stream",
     "text": [
      "=== English Text (First Few Lines) ===\n",
      "Education has undergone a remarkable transformation with the integration of technology. The traditional classroom, once limited to chalkboards and textbooks, has now expanded into a dynamic digital space, offering students access to an ocean of knowledge beyond their physical boundaries.\n",
      "\n",
      "One of the biggest advantages of technology in education is accessibility. Students can now learn from anywhere, thanks to online courses, virtual classrooms, and e-books. This has particularly benefited those in remote areas who previously had limited educational opportunities.\n",
      "\n",
      "Furthermore, interactive tools such as smart boards, simulations, and educational apps make learning more engaging and effective. These technologies cater to different learning styles, ensuring that students grasp concepts better. Artificial Intelligence (AI) is also playing a significant role by personalizing education and providing intelligent tutoring systems.\n",
      "\n",
      "\n",
      "Total number of characters in English file: 6676\n",
      "=== Hindi Text (First Few Lines) ===\n",
      "भूमिका\n",
      "खेल जीवन का एक अनिवार्य अंग हैं। यह केवल मनोरंजन का साधन नहीं, बल्कि शारीरिक, मानसिक, और सामाजिक विकास का भी एक प्रभावी माध्यम है। प्राचीन काल से लेकर आधुनिक युग तक, खेलों ने मनुष्यों के जीवन में एक महत्वपूर्ण स्थान बनाया है। भारतीय ग्रंथों में भी खेलों का उल्लेख मिलता है, जहाँ चाणक्य, महाभारत और रामायण में विभिन्न खेलों का वर्णन किया गया है। आज के दौर में खेल केवल एक शौक या मनोरंजन नहीं रह गए हैं, बल्कि एक पूर्ण व्यवसाय और करियर के रूप में भी उभर चुके हैं।\n",
      "\n",
      "खेलों का शारीरिक स्वास्थ्य पर प्रभाव\n",
      "खेलों का सबसे महत्वपूर्ण योगदान शारीरिक स्वास्थ्य को मजबूत करने में है। खेलों से व्यक्ति का शरीर मजबूत और सक्रिय रहता है। जब हम नियमित रूप से कोई खेल खेलते हैं, तो हमारी मांसपेशियां मजबूत होती हैं, शरीर में लचीलापन आता है और रक्त संचार बेहतर होता है।\n",
      "\n",
      "\n",
      "Total number of characters in Hindi file: 4781\n"
     ]
    }
   ],
   "source": [
    "\n",
    "# Read English and Hindi documents\n",
    "english_doc = read_file(r\"C:\\Users\\prajw\\CODE\\Conversational AI Chatbot\\Sarvam\\Ref\\data\\sample1.txt\", \"English\")\n",
    "hindi_doc = read_file(r\"C:\\Users\\prajw\\CODE\\Conversational AI Chatbot\\Sarvam\\Ref\\data\\sample2.txt\", \"Hindi\")"
   ]
  },
  {
   "attachments": {},
   "cell_type": "markdown",
   "metadata": {},
   "source": [
    "### **Step 3.2: Split the text into chunks of at most 1000 characters** \n",
    "\n",
    "Since the API has a restriction of 1000 characters per request, we need to split the text accordingly."
   ]
  },
  {
   "cell_type": "code",
   "execution_count": 6,
   "metadata": {},
   "outputs": [],
   "source": [
    "def chunk_text(text, max_length=1000):\n",
    "    \"\"\"Splits text into chunks of at most max_length characters while preserving word boundaries.\"\"\"\n",
    "    chunks = []\n",
    "    \n",
    "    while len(text) > max_length:\n",
    "        split_index = text.rfind(\" \", 0, max_length)  # Find the last space within limit\n",
    "        if split_index == -1:  \n",
    "            split_index = max_length  # No space found, force split at max_length\n",
    "        \n",
    "        chunks.append(text[:split_index].strip())  # Trim spaces before adding\n",
    "        text = text[split_index:].lstrip()  # Remove leading spaces for the next chunk\n",
    "    \n",
    "    if text:\n",
    "        chunks.append(text.strip())  # Add the last chunk\n",
    "    \n",
    "    return chunks"
   ]
  },
  {
   "cell_type": "code",
   "execution_count": 7,
   "metadata": {},
   "outputs": [
    {
     "name": "stdout",
     "output_type": "stream",
     "text": [
      "Total Chunks: 7\n",
      "\n",
      "=== Chunk 1 (Length: 989) ===\n",
      "Education has undergone a remarkable transformation with the integration of technology. The traditional classroom, once limited to chalkboards and textbooks, has now expanded into a dynamic digital space, offering students access to an ocean of knowledge beyond their physical boundaries.\n",
      "\n",
      "One of the biggest advantages of technology in education is accessibility. Students can now learn from anywhere, thanks to online courses, virtual classrooms, and e-books. This has particularly benefited those in remote areas who previously had limited educational opportunities.\n",
      "\n",
      "Furthermore, interactive tools such as smart boards, simulations, and educational apps make learning more engaging and effective. These technologies cater to different learning styles, ensuring that students grasp concepts better. Artificial Intelligence (AI) is also playing a significant role by personalizing education and providing intelligent tutoring systems.\n",
      "\n",
      "Despite its advantages, technology in education has\n",
      "\n",
      "=== Chunk 2 (Length: 999) ===\n",
      "challenges. Excessive screen time, the digital divide between urban and rural areas, and cybersecurity risks are concerns that need to be addressed. However, with proper regulations and responsible use, technology can revolutionize education, making it more inclusive, engaging, and efficient for future generations.Introduction\n",
      "\n",
      "Education has always been the backbone of human progress. Over centuries, methods of education have evolved from oral traditions to written scripts, from printed books to digital learning. The integration of technology into education is one of the most significant advancements in modern times. Technology has revolutionized education by making it more accessible, interactive, and efficient. It has transformed traditional classrooms into smart classrooms, enabling students to learn in a more engaging and personalized manner.\n",
      "\n",
      "This essay explores the role of technology in modern education, highlighting its advantages, challenges, and the future of education in the\n",
      "\n",
      "=== Chunk 3 (Length: 988) ===\n",
      "digital age.\n",
      "\n",
      "The Evolution of Technology in Education\n",
      "\n",
      "Education has evolved dramatically with technological advancements. Initially, education was confined to physical classrooms with limited resources such as textbooks and blackboards. With the advent of the internet and digital devices, students and teachers now have access to vast amounts of information at their fingertips.\n",
      "\n",
      "Early Stages of Educational Technology\n",
      "\n",
      "The introduction of computers in education during the late 20th century marked a significant shift in teaching and learning methods.\n",
      "\n",
      "Multimedia CDs and PowerPoint presentations replaced traditional chalk-and-board teaching methods.\n",
      "\n",
      "The Internet and Online Learning\n",
      "\n",
      "The internet revolutionized education by enabling students to access online courses, digital libraries, and educational videos.\n",
      "\n",
      "Platforms such as Khan Academy, Coursera, and Udemy provide free and paid courses to students worldwide.\n",
      "\n",
      "Smart Classrooms and AI in Education\n",
      "\n",
      "Interactive whiteboards,\n"
     ]
    }
   ],
   "source": [
    "# Split the text\n",
    "english_text_chunks = chunk_text(english_doc)\n",
    "\n",
    "# Display chunk info\n",
    "print(f\"Total Chunks: {len(english_text_chunks)}\")\n",
    "for i, chunk in enumerate(english_text_chunks[:3], 1):  # Show only first 3 chunks for preview\n",
    "    print(f\"\\n=== Chunk {i} (Length: {len(chunk)}) ===\\n{chunk}\")"
   ]
  },
  {
   "cell_type": "code",
   "execution_count": 8,
   "metadata": {},
   "outputs": [
    {
     "name": "stdout",
     "output_type": "stream",
     "text": [
      "Total Chunks: 5\n",
      "\n",
      "=== Chunk 1 (Length: 998) ===\n",
      "भूमिका\n",
      "खेल जीवन का एक अनिवार्य अंग हैं। यह केवल मनोरंजन का साधन नहीं, बल्कि शारीरिक, मानसिक, और सामाजिक विकास का भी एक प्रभावी माध्यम है। प्राचीन काल से लेकर आधुनिक युग तक, खेलों ने मनुष्यों के जीवन में एक महत्वपूर्ण स्थान बनाया है। भारतीय ग्रंथों में भी खेलों का उल्लेख मिलता है, जहाँ चाणक्य, महाभारत और रामायण में विभिन्न खेलों का वर्णन किया गया है। आज के दौर में खेल केवल एक शौक या मनोरंजन नहीं रह गए हैं, बल्कि एक पूर्ण व्यवसाय और करियर के रूप में भी उभर चुके हैं।\n",
      "\n",
      "खेलों का शारीरिक स्वास्थ्य पर प्रभाव\n",
      "खेलों का सबसे महत्वपूर्ण योगदान शारीरिक स्वास्थ्य को मजबूत करने में है। खेलों से व्यक्ति का शरीर मजबूत और सक्रिय रहता है। जब हम नियमित रूप से कोई खेल खेलते हैं, तो हमारी मांसपेशियां मजबूत होती हैं, शरीर में लचीलापन आता है और रक्त संचार बेहतर होता है।\n",
      "\n",
      "खेल खेलने से हृदय की कार्यप्रणाली भी बेहतर होती है, जिससे हृदय रोग, उच्च रक्तचाप और मधुमेह जैसी बीमारियों से बचाव होता है। यह हमारी रोग प्रतिरोधक क्षमता को भी बढ़ाते हैं, जिससे हम सामान्य बीमारियों से बच सकते हैं। साथ ही, खेलों से हड्डियाँ\n",
      "\n",
      "=== Chunk 2 (Length: 989) ===\n",
      "मजबूत होती हैं और जोड़ों में लचीलापन बना रहता है, जिससे वृद्धावस्था में हड्डी संबंधी समस्याएं कम होती हैं।\n",
      "\n",
      "खेलों का मानसिक स्वास्थ्य पर प्रभाव\n",
      "खेल न केवल शारीरिक रूप से बल्कि मानसिक रूप से भी व्यक्ति को मजबूत बनाते हैं। जब कोई व्यक्ति खेलता है, तो उसका मनोबल बढ़ता है, एकाग्रता में वृद्धि होती है और तनाव कम होता है। खेलों से दिमाग में एंडोर्फिन नामक हार्मोन का स्राव होता है, जो हमें खुशी का अनुभव कराता है और तनाव को कम करता है।\n",
      "\n",
      "आज के दौर में, जब मानसिक तनाव और अवसाद जैसी समस्याएं बढ़ रही हैं, खेल इनसे लड़ने का एक प्रभावी तरीका बन सकते हैं। खेलों में भाग लेने से व्यक्ति का आत्मविश्वास बढ़ता है, उसकी निर्णय लेने की क्षमता मजबूत होती है और वह चुनौतियों का सामना करने में सक्षम बनता है।\n",
      "\n",
      "खेलों का सामाजिक जीवन पर प्रभाव\n",
      "खेल एक सामाजिक गतिविधि भी है, जो लोगों को आपस में जोड़ने का कार्य करता है। जब हम किसी टीम में खेलते हैं, तो हम सहयोग, सामंजस्य, नेतृत्व और अनुशासन जैसे गुणों को सीखते हैं। खेलों में जीत और हार होती है, जिससे हम यह सीखते हैं कि जीवन में कठिनाइयों का सामना कैसे करना\n",
      "\n",
      "=== Chunk 3 (Length: 997) ===\n",
      "चाहिए।\n",
      "\n",
      "टीम वर्क और नेतृत्व की भावना खेलों के माध्यम से ही विकसित होती है। यही कारण है कि बड़े कॉर्पोरेट संगठनों में भी टीम बिल्डिंग के लिए खेल गतिविधियों को बढ़ावा दिया जाता है। खेल हमें यह सिखाते हैं कि व्यक्तिगत स्वार्थ से ऊपर उठकर टीम के हित में कैसे काम किया जाए।\n",
      "\n",
      "खेलों में अनुशासन और आत्मनिर्भरता\n",
      "खेलों का एक महत्वपूर्ण पहलू अनुशासन और आत्मनिर्भरता है। हर खेल के अपने कुछ नियम होते हैं, जिनका पालन करना अनिवार्य होता है। जब कोई व्यक्ति खेलता है, तो उसे नियमों के अनुसार चलना पड़ता है, जिससे उसमें अनुशासन की भावना विकसित होती है।\n",
      "\n",
      "इसके अलावा, खेल व्यक्ति को आत्मनिर्भर बनाते हैं। एक खिलाड़ी को अपने लक्ष्य तक पहुँचने के लिए कठोर परिश्रम करना पड़ता है। यह मानसिकता उसे जीवन के अन्य क्षेत्रों में भी आगे बढ़ने में मदद करती है।\n",
      "\n",
      "खेलों से करियर और आर्थिक अवसर\n",
      "आज खेल केवल मनोरंजन का साधन नहीं हैं, बल्कि एक पेशे के रूप में भी अपनाए जा सकते हैं। क्रिकेट, फुटबॉल, हॉकी, बैडमिंटन, टेनिस, और कुश्ती जैसे खेलों में करियर के अपार अवसर मौजूद हैं।\n",
      "\n",
      "भारत में क्रिकेट खिलाड़ियों को बहुत अधिक सम्मान और धन\n"
     ]
    }
   ],
   "source": [
    "# Split the text\n",
    "hindi_text_chunks = chunk_text(hindi_doc)\n",
    "\n",
    "# Display chunk info\n",
    "print(f\"Total Chunks: {len(hindi_text_chunks)}\")\n",
    "for i, chunk in enumerate(hindi_text_chunks[:3], 1):  # Show only first 3 chunks for preview\n",
    "    print(f\"\\n=== Chunk {i} (Length: {len(chunk)}) ===\\n{chunk}\")"
   ]
  },
  {
   "attachments": {},
   "cell_type": "markdown",
   "metadata": {},
   "source": [
    "### **Step 3.3: Setting up the API Endpoint** \n",
    "\n",
    "There are three main types of translations we support:  \n",
    "\n",
    "1️⃣ **English to Indic** 🏛 → Translating from **English to Indian languages** (e.g., *\"Invoice total is $3,450.75.\" → \"इनवॉइस कुल राशि $3,450.75 है।\"*)  \n",
    "\n",
    "2️⃣ **Indic to English** 🌍 → Converting **Indian languages to English** (e.g., *\"आपका ऑर्डर सफलतापूर्वक दर्ज किया गया है।\" → \"Your order has been successfully placed.\"*)  \n",
    "\n",
    "3️⃣ **Indic to Indic** 🔄 → Translating **between Indian languages** (e.g., *Hindi → Tamil, Bengali → Marathi*).  \n"
   ]
  },
  {
   "attachments": {},
   "cell_type": "markdown",
   "metadata": {},
   "source": [
    "### **Indic to Eng Translation**  "
   ]
  },
  {
   "cell_type": "code",
   "execution_count": 10,
   "metadata": {},
   "outputs": [
    {
     "name": "stdout",
     "output_type": "stream",
     "text": [
      "\n",
      "=== Translated Chunk 1 ===\n",
      "Technology के आने से पढ़ाई-लिखाई में काफ़ी बदलाव आया है. पहले पढ़ाई तोड़-फोड़ के लिए, chalkboard और किताबों तक ही सीमित रहती थी। अब ये digital ज़माने में काफ़ी आगे बढ़ गया है, और students को उनके घर के बाहर भी जानकारी का भंडार मुहैया करा रहा है.\n",
      "\n",
      "Education में technology का सबसे बड़ा फ़ायदा इसकी accessibility है. Online courses, virtual classrooms और e-books की वजह से अब students कहीं से भी सीख सकते हैं. इससे दूर-दराज़ इलाकों के लोगों को काफ़ी फ़ायदा हुआ है, जिनके पास पहले पढ़ाई-लिखाई के ज़्यादा मौक़े नहीं थे.\n",
      "\n",
      "इसके अलावा, smart board, simulation और educational app जैसे interactive tools पढ़ाई को और मज़ेदार और कारगर बनाते हैं. ये technologies अलग-अलग सीखने के तरीक़ों के हिसाब से बनाई गई हैं, ताकि students concepts को अच्छी तरह समझ सकें. Artificial Intelligence (AI) भी education को personalize करके और intelligent tutoring systems देकर एक अहम भूमिका निभा रहा है.\n",
      "\n",
      "इसके फ़ायदों के बावजूद, education में technology\n",
      "\n",
      "\n",
      "=== Translated Chunk 2 ===\n",
      "चुनौतियाँ. ज़्यादा screen time, शहरों और गाँवों के बीच digital divide, और cybersecurity के ख़तरे, ये सब चिंता की बात है, जिनका हल निकालना ज़रूरी है. लेकिन, अगर नियमों का पालन करें और इसका सही इस्तेमाल करें, तो technology शिक्षा में क्रांति ला सकती है, जिससे आने वाली पीढ़ियों के लिए ये ज़्यादा समावेशी, दिलचस्प और कारगर बनेगी। Introduction\n",
      "\n",
      "इन्सानी तरक़्क़ी की रीढ़ की हड्डी शिक्षा ही रही है. सदियों से, पढ़ाई-लिखाई के तरीक़े, कहानियों से लेकर किताबों तक, और छापने वाली किताबों से लेकर digital learning तक, बदलते रहे हैं. आजकल के ज़माने में technology का education में इस्तेमाल सबसे बड़ी तरक़्क़ी है. Technology ने पढ़ाई-लिखाई को बहुत आसान, interactive और कारगर बना दिया है. इसने पुराने ज़माने के classroom को smart classroom बना दिया है, जिससे students ज़्यादा मज़ेदार और अपने हिसाब से पढ़ाई कर सकते हैं.\n",
      "\n",
      "इस essay में technology के modern education में रोल पर बात की गई है, इसके फ़ायदे, मुश्किलें और education के आगे के भविष्य के बारे में बताया गया है\n",
      "\n",
      "\n",
      "=== Translated Chunk 3 ===\n",
      "digital ज़माना.\n",
      "\n",
      "शिक्षा में Technology का विकास\n",
      "\n",
      "Technology के विकास के साथ, पढ़ाई-लिखाई में काफ़ी बदलाव आया है. पहले, पढ़ाई-लिखाई सिर्फ़ classroom में होती थी, जहाँ किताबें और blackboard जैसी कम चीज़ें होती थीं. इंटरनेट और digital devices के आने के बाद, students और teachers अब काफ़ी ज़्यादा information अपने हाथ में पा सकते हैं.\n",
      "\n",
      "Educational Technology के शुरुआती दिन\n",
      "\n",
      "20वीं सदी के आख़िर में education में computer आने से पढ़ाने-लिखाने के तरीक़े में बड़ा बदलाव आया.\n",
      "\n",
      "Multimedia CDs और PowerPoint presentations ने पुराने chalk-and-board तरीक़े की जगह ले ली.\n",
      "\n",
      "Internet और Online Learning\n",
      "\n",
      "Internet ने पढ़ाई-लिखाई में क्रांति ला दी है, students online courses, digital libraries और educational videos देख सकते हैं.\n",
      "\n",
      "Khan Academy, Coursera, और Udemy जैसे platforms दुनिया भर के students को मुफ़्त और पैसे वाले courses देते हैं.\n",
      "\n",
      "शिक्षा में Smart Classrooms और AI\n",
      "\n",
      "Interactive whiteboards,\n",
      "\n",
      "\n",
      "=== Translated Chunk 4 ===\n",
      "projectors और smart tablets ने पढ़ाने के पुराने तरीक़ों को बदल दिया है.\n",
      "\n",
      "Artificial Intelligence (AI) बच्चों की पढ़ाई को बेहतर बनाने के लिए, उनकी तरक़्क़ी देखकर, उनके हिसाब से पढ़ाई की किताबें देता है.\n",
      "\n",
      "शिक्षा में Technology के फ़ायदे\n",
      "\n",
      "Technology ने पढ़ाई-लिखाई को कई तरीक़ों से बदल दिया है, और इसे ज़्यादा कारगर और सबके लिए खुलकर इस्तेमाल करने लायक बना दिया है. इसके कुछ बड़े फ़ायदे हैं, जैसे::\n",
      "\n",
      "शिक्षा तक पहुँच\n",
      "\n",
      "Online learning platforms की मदद से दूर-दराज़ के छात्रों को अच्छी पढ़ाई मिल सकती है.\n",
      "\n",
      "Digital books और resources की वजह से महंगी किताबों पर निर्भरता कम हो जाती है.\n",
      "\n",
      "Students की ज़्यादा भागीदारी\n",
      "\n",
      "Interactive videos, gamified learning, और simulation-based experiments, पढ़ाई को और मज़ेदार बनाते हैं.\n",
      "\n",
      "Augmented Reality (AR) और Virtual Reality (VR) सीखने को और भी मज़ेदार बनाते हैं, मुश्किल concepts को समझने में आसानी होती है.\n",
      "\n",
      "Personalized Learning\n",
      "\n",
      "AI-driven education platforms, students की ताक़त और कमज़ोरियों का analysis करते हैं और उनके हिसाब से सीखने का तरीक़ा बनाते हैं.\n",
      "\n",
      "Adaptive learning systems\n",
      "\n",
      "\n",
      "=== Translated Chunk 5 ===\n",
      "ताकि students अपनी गति से सीख सकें.\n",
      "\n",
      "सही तरीक़े से Assessment और Feedback\n",
      "\n",
      "Online exams, automated grading systems, और real-time feedback से teachers students को बेहतर तरीक़े से समझ सकते हैं.\n",
      "\n",
      "AI-based tools से students के सीखने के तरीक़े की जानकारी मिलती है, जिससे teachers अपनी teaching strategies बेहतर बना सकते हैं.\n",
      "\n",
      "कम ख़र्च में अच्छी पढ़ाई\n",
      "\n",
      "E-learning platforms से पढ़ाई का ख़र्च कम हो जाता है क्योंकि इनके लिए कोई ख़ास infrastructure की ज़रूरत नहीं होती.\n",
      "\n",
      "Open-source learning materials और digital libraries, बढ़िया educational content मुफ़्त में देते हैं.\n",
      "\n",
      "Education में Technology के Challenges\n",
      "\n",
      "Technology के कई फ़ायदे तो हैं ही, लेकिन इसके साथ कुछ मुश्किलें भी हैं जिनका हल निकालना ज़रूरी है:\n",
      "\n",
      "Digital Divide\n",
      "\n",
      "कई students, ख़ासकर developing countries में, के पास internet और digital devices नहीं हैं.\n",
      "\n",
      "सरकारों और संस्थाओं को इस कमी को पूरा करने के लिए सस्ती technology देने की कोशिश करनी चाहिए.\n",
      "\n",
      "Technology पर ज़्यादा निर्भरता\n",
      "\n",
      "ज़्यादा screen time सेहत के लिए नुक़सानदेह हो सकता है\n",
      "\n",
      "\n",
      "=== Translated Chunk 6 ===\n",
      "जैसे कि आँखों में थकान और कम कसरत.\n",
      "\n",
      "Students technology पर ज़्यादा निर्भर हो सकते हैं, जिससे उनकी critical thinking और problem-solving skills कमज़ोर पड़ सकती हैं.\n",
      "\n",
      "Data Privacy और Cybersecurity Risks\n",
      "\n",
      "Online learning platforms बहुत ज़्यादा personal data इकट्ठा करते हैं, जिससे data privacy और security की चिंता बढ़ती है.\n",
      "\n",
      "Cyber threats जैसे hacking और online harassment, students और educators के लिए ख़तरा पैदा कर सकते हैं.\n",
      "\n",
      "Teacher Training की ज़रूरत है\n",
      "\n",
      "बहुत से teachers को advanced digital tools का इस्तेमाल नहीं आता.\n",
      "\n",
      "Trainings programs teachers को ज़रूरी technical skills सिखाने के लिए चलाए जाने चाहिए.\n",
      "\n",
      "Digital Age में Education का भविष्य\n",
      "\n",
      "आने वाले सालों में technology, education को और भी बदलती रहेगी. कुछ आने वाले trends में शामिल हैं::\n",
      "\n",
      "शिक्षा में AI और Machine Learning\n",
      "\n",
      "AI-driven tutors students को real-time मदद देंगे.\n",
      "\n",
      "Machine learning algorithms personalized learning experiences को बेहतर बनाएंगे.\n",
      "\n",
      "शिक्षा में Blockchain\n",
      "\n",
      "Blockchain technology का इस्तेमाल सुरक्षित तरीक़े से होगा\n",
      "\n",
      "\n",
      "=== Translated Chunk 7 ===\n",
      "पढ़ाई-लिखाई के काग़ज़ और certificates रखें.\n",
      "\n",
      "Gamification और Interactive Learning\n",
      "\n",
      "Game-based education models से सीखने का तरीक़ा और भी interactive हो जाएगा.\n",
      "\n",
      "शिक्षा में दुनिया भर के लोगों का साथ मिलकर काम करना\n",
      "\n",
      "Virtual classroom से दुनिया भर के students और teachers मिलकर सीख और काम कर पाएंगे.\n",
      "\n",
      "निष्कर्ष\n",
      "\n",
      "Technology ने पढ़ाई-लिखाई में क्रांति ला दी है, इसे और आसान, दिलचस्प और कारगर बना दिया है. लेकिन, digital divide, cybersecurity risks, और teacher training की ज़रूरत जैसी मुश्किलों का हल निकालना होगा. ज़िम्मेदारी और सबको शामिल करने वाली policies बनाकर, हम technology का पूरा इस्तेमाल करके एक ऐसा भविष्य बना सकते हैं जहाँ हर किसी को अच्छी शिक्षा मिले।\n",
      "\n",
      "\n",
      "=== Final Translated Text ===\n",
      "Technology के आने से पढ़ाई-लिखाई में काफ़ी बदलाव आया है. पहले पढ़ाई तोड़-फोड़ के लिए, chalkboard और किताबों तक ही सीमित रहती थी। अब ये digital ज़माने में काफ़ी आगे बढ़ गया है, और students को उनके घर के बाहर भी जानकारी का भंडार मुहैया करा रहा है.\n",
      "\n",
      "Education में technology का सबसे बड़ा फ़ायदा इसकी accessibility है. Online courses, virtual classrooms और e-books की वजह से अब students कहीं से भी सीख सकते हैं. इससे दूर-दराज़ इलाकों के लोगों को काफ़ी फ़ायदा हुआ है, जिनके पास पहले पढ़ाई-लिखाई के ज़्यादा मौक़े नहीं थे.\n",
      "\n",
      "इसके अलावा, smart board, simulation और educational app जैसे interactive tools पढ़ाई को और मज़ेदार और कारगर बनाते हैं. ये technologies अलग-अलग सीखने के तरीक़ों के हिसाब से बनाई गई हैं, ताकि students concepts को अच्छी तरह समझ सकें. Artificial Intelligence (AI) भी education को personalize करके और intelligent tutoring systems देकर एक अहम भूमिका निभा रहा है.\n",
      "\n",
      "इसके फ़ायदों के बावजूद, education में technology\n",
      "चुनौतियाँ. ज़्यादा screen time, शहरों और गाँवों के बीच digital divide, और cybersecurity के ख़तरे, ये सब चिंता की बात है, जिनका हल निकालना ज़रूरी है. लेकिन, अगर नियमों का पालन करें और इसका सही इस्तेमाल करें, तो technology शिक्षा में क्रांति ला सकती है, जिससे आने वाली पीढ़ियों के लिए ये ज़्यादा समावेशी, दिलचस्प और कारगर बनेगी। Introduction\n",
      "\n",
      "इन्सानी तरक़्क़ी की रीढ़ की हड्डी शिक्षा ही रही है. सदियों से, पढ़ाई-लिखाई के तरीक़े, कहानियों से लेकर किताबों तक, और छापने वाली किताबों से लेकर digital learning तक, बदलते रहे हैं. आजकल के ज़माने में technology का education में इस्तेमाल सबसे बड़ी तरक़्क़ी है. Technology ने पढ़ाई-लिखाई को बहुत आसान, interactive और कारगर बना दिया है. इसने पुराने ज़माने के classroom को smart classroom बना दिया है, जिससे students ज़्यादा मज़ेदार और अपने हिसाब से पढ़ाई कर सकते हैं.\n",
      "\n",
      "इस essay में technology के modern education में रोल पर बात की गई है, इसके फ़ायदे, मुश्किलें और education के आगे के भविष्य के बारे में बताया गया है\n",
      "digital ज़माना.\n",
      "\n",
      "शिक्षा में Technology का विकास\n",
      "\n",
      "Technology के विकास के साथ, पढ़ाई-लिखाई में काफ़ी बदलाव आया है. पहले, पढ़ाई-लिखाई सिर्फ़ classroom में होती थी, जहाँ किताबें और blackboard जैसी कम चीज़ें होती थीं. इंटरनेट और digital devices के आने के बाद, students और teachers अब काफ़ी ज़्यादा information अपने हाथ में पा सकते हैं.\n",
      "\n",
      "Educational Technology के शुरुआती दिन\n",
      "\n",
      "20वीं सदी के आख़िर में education में computer आने से पढ़ाने-लिखाने के तरीक़े में बड़ा बदलाव आया.\n",
      "\n",
      "Multimedia CDs और PowerPoint presentations ने पुराने chalk-and-board तरीक़े की जगह ले ली.\n",
      "\n",
      "Internet और Online Learning\n",
      "\n",
      "Internet ने पढ़ाई-लिखाई में क्रांति ला दी है, students online courses, digital libraries और educational videos देख सकते हैं.\n",
      "\n",
      "Khan Academy, Coursera, और Udemy जैसे platforms दुनिया भर के students को मुफ़्त और पैसे वाले courses देते हैं.\n",
      "\n",
      "शिक्षा में Smart Classrooms और AI\n",
      "\n",
      "Interactive whiteboards,\n",
      "projectors और smart tablets ने पढ़ाने के पुराने तरीक़ों को बदल दिया है.\n",
      "\n",
      "Artificial Intelligence (AI) बच्चों की पढ़ाई को बेहतर बनाने के लिए, उनकी तरक़्क़ी देखकर, उनके हिसाब से पढ़ाई की किताबें देता है.\n",
      "\n",
      "शिक्षा में Technology के फ़ायदे\n",
      "\n",
      "Technology ने पढ़ाई-लिखाई को कई तरीक़ों से बदल दिया है, और इसे ज़्यादा कारगर और सबके लिए खुलकर इस्तेमाल करने लायक बना दिया है. इसके कुछ बड़े फ़ायदे हैं, जैसे::\n",
      "\n",
      "शिक्षा तक पहुँच\n",
      "\n",
      "Online learning platforms की मदद से दूर-दराज़ के छात्रों को अच्छी पढ़ाई मिल सकती है.\n",
      "\n",
      "Digital books और resources की वजह से महंगी किताबों पर निर्भरता कम हो जाती है.\n",
      "\n",
      "Students की ज़्यादा भागीदारी\n",
      "\n",
      "Interactive videos, gamified learning, और simulation-based experiments, पढ़ाई को और मज़ेदार बनाते हैं.\n",
      "\n",
      "Augmented Reality (AR) और Virtual Reality (VR) सीखने को और भी मज़ेदार बनाते हैं, मुश्किल concepts को समझने में आसानी होती है.\n",
      "\n",
      "Personalized Learning\n",
      "\n",
      "AI-driven education platforms, students की ताक़त और कमज़ोरियों का analysis करते हैं और उनके हिसाब से सीखने का तरीक़ा बनाते हैं.\n",
      "\n",
      "Adaptive learning systems\n",
      "ताकि students अपनी गति से सीख सकें.\n",
      "\n",
      "सही तरीक़े से Assessment और Feedback\n",
      "\n",
      "Online exams, automated grading systems, और real-time feedback से teachers students को बेहतर तरीक़े से समझ सकते हैं.\n",
      "\n",
      "AI-based tools से students के सीखने के तरीक़े की जानकारी मिलती है, जिससे teachers अपनी teaching strategies बेहतर बना सकते हैं.\n",
      "\n",
      "कम ख़र्च में अच्छी पढ़ाई\n",
      "\n",
      "E-learning platforms से पढ़ाई का ख़र्च कम हो जाता है क्योंकि इनके लिए कोई ख़ास infrastructure की ज़रूरत नहीं होती.\n",
      "\n",
      "Open-source learning materials और digital libraries, बढ़िया educational content मुफ़्त में देते हैं.\n",
      "\n",
      "Education में Technology के Challenges\n",
      "\n",
      "Technology के कई फ़ायदे तो हैं ही, लेकिन इसके साथ कुछ मुश्किलें भी हैं जिनका हल निकालना ज़रूरी है:\n",
      "\n",
      "Digital Divide\n",
      "\n",
      "कई students, ख़ासकर developing countries में, के पास internet और digital devices नहीं हैं.\n",
      "\n",
      "सरकारों और संस्थाओं को इस कमी को पूरा करने के लिए सस्ती technology देने की कोशिश करनी चाहिए.\n",
      "\n",
      "Technology पर ज़्यादा निर्भरता\n",
      "\n",
      "ज़्यादा screen time सेहत के लिए नुक़सानदेह हो सकता है\n",
      "जैसे कि आँखों में थकान और कम कसरत.\n",
      "\n",
      "Students technology पर ज़्यादा निर्भर हो सकते हैं, जिससे उनकी critical thinking और problem-solving skills कमज़ोर पड़ सकती हैं.\n",
      "\n",
      "Data Privacy और Cybersecurity Risks\n",
      "\n",
      "Online learning platforms बहुत ज़्यादा personal data इकट्ठा करते हैं, जिससे data privacy और security की चिंता बढ़ती है.\n",
      "\n",
      "Cyber threats जैसे hacking और online harassment, students और educators के लिए ख़तरा पैदा कर सकते हैं.\n",
      "\n",
      "Teacher Training की ज़रूरत है\n",
      "\n",
      "बहुत से teachers को advanced digital tools का इस्तेमाल नहीं आता.\n",
      "\n",
      "Trainings programs teachers को ज़रूरी technical skills सिखाने के लिए चलाए जाने चाहिए.\n",
      "\n",
      "Digital Age में Education का भविष्य\n",
      "\n",
      "आने वाले सालों में technology, education को और भी बदलती रहेगी. कुछ आने वाले trends में शामिल हैं::\n",
      "\n",
      "शिक्षा में AI और Machine Learning\n",
      "\n",
      "AI-driven tutors students को real-time मदद देंगे.\n",
      "\n",
      "Machine learning algorithms personalized learning experiences को बेहतर बनाएंगे.\n",
      "\n",
      "शिक्षा में Blockchain\n",
      "\n",
      "Blockchain technology का इस्तेमाल सुरक्षित तरीक़े से होगा\n",
      "पढ़ाई-लिखाई के काग़ज़ और certificates रखें.\n",
      "\n",
      "Gamification और Interactive Learning\n",
      "\n",
      "Game-based education models से सीखने का तरीक़ा और भी interactive हो जाएगा.\n",
      "\n",
      "शिक्षा में दुनिया भर के लोगों का साथ मिलकर काम करना\n",
      "\n",
      "Virtual classroom से दुनिया भर के students और teachers मिलकर सीख और काम कर पाएंगे.\n",
      "\n",
      "निष्कर्ष\n",
      "\n",
      "Technology ने पढ़ाई-लिखाई में क्रांति ला दी है, इसे और आसान, दिलचस्प और कारगर बना दिया है. लेकिन, digital divide, cybersecurity risks, और teacher training की ज़रूरत जैसी मुश्किलों का हल निकालना होगा. ज़िम्मेदारी और सबको शामिल करने वाली policies बनाकर, हम technology का पूरा इस्तेमाल करके एक ऐसा भविष्य बना सकते हैं जहाँ हर किसी को अच्छी शिक्षा मिले।\n"
     ]
    }
   ],
   "source": [
    "# Define API request details\n",
    "url = \"https://api.sarvam.ai/translate\"\n",
    "headers = {\n",
    "    \"api-subscription-key\": SARVAM_API_KEY,\n",
    "    \"Content-Type\": \"application/json\"\n",
    "}\n",
    "\n",
    "# Send requests for each chunk\n",
    "translated_texts = []\n",
    "for idx, chunk in enumerate(english_text_chunks):\n",
    "    payload = {\n",
    "        \"source_language_code\": \"en-IN\",\n",
    "        \"target_language_code\": \"hi-IN\",\n",
    "        \"speaker_gender\": \"Male\",\n",
    "        \"mode\": \"classic-colloquial\",\n",
    "        \"model\": \"mayura:v1\",\n",
    "        \"enable_preprocessing\": False,\n",
    "        \"input\": chunk\n",
    "    }\n",
    "\n",
    "    response = requests.post(url, json=payload, headers=headers)\n",
    "\n",
    "    if response.status_code == 200:\n",
    "        translated_text = response.json().get(\"translated_text\", \"Translation not available\")\n",
    "        translated_texts.append(translated_text)\n",
    "        print(f\"\\n=== Translated Chunk {idx + 1} ===\\n{translated_text}\\n\")\n",
    "    else:\n",
    "        print(f\"Error: {response.status_code}, {response.text}\")\n",
    "\n",
    "# Combine all translated chunks\n",
    "final_translation = \"\\n\".join(translated_texts)\n",
    "print(\"\\n=== Final Translated Text ===\")\n",
    "print(final_translation)"
   ]
  },
  {
   "attachments": {},
   "cell_type": "markdown",
   "metadata": {},
   "source": [
    "### **Indic to Indic Translation**  "
   ]
  },
  {
   "cell_type": "code",
   "execution_count": 11,
   "metadata": {},
   "outputs": [
    {
     "name": "stdout",
     "output_type": "stream",
     "text": [
      "\n",
      "=== Translated Chunk 1 ===\n",
      "Artificial Intelligence (AI) automation থেকে decision-making পর্যন্ত, মানুষের জীবনের বিভিন্ন ক্ষেত্রে বিপ্লব ঘটাচ্ছে। Healthcare থেকে finance, transportation, এমনকি education, AI, industry-গুলোকে বদলে দিচ্ছে। Industry-গুলোকে নতুন করে গড়ে তুলছে, process automate করছে, আর মানুষের capabilities-ও বাড়াচ্ছে। AI-এর potential benefits immense, efficiency improve করা থেকে শুরু করে pressing societal issue-গুলো address করা পর্যন্ত।  কিন্তু এর সাথে significant ethical, economic, আর societal concerns-ও আছে, যেগুলো carefully navigate করতে হবে।\n",
      "\n",
      "AI-এর একটা profound impact হল healthcare-এ এর ব্যবহার। AI-powered diagnostic tool-গুলো early disease detection আর disease management-এ help করে, যার ফলে patient-দের result ভালো হয় আর healthcare cost-ও কমে। একটা machine learning algorithm medical data analyze করতে পারে আর এমন pattern identify করতে পারে, যেগুলো মানুষ notice করতে পারে না। এগুলো personalized treatment plan-এ help করতে পারে। Robotic surgery আর AI-driven drug discovery, medical procedure-এর efficiency অনেক বাড়িয়ে দিয়েছে। তবে, AI integration-এর ব্যাপারে\n",
      "\n",
      "\n",
      "=== Translated Chunk 2 ===\n",
      "Healthcare-এর use-এর ফলে data privacy, security, আর medical decision making-এ potential biases নিয়ে অনেক concern তৈরি হয়েছে।\n",
      "\n",
      "\n",
      "=== Final Translated Text ===\n",
      "Artificial Intelligence (AI) automation থেকে decision-making পর্যন্ত, মানুষের জীবনের বিভিন্ন ক্ষেত্রে বিপ্লব ঘটাচ্ছে। Healthcare থেকে finance, transportation, এমনকি education, AI, industry-গুলোকে বদলে দিচ্ছে। Industry-গুলোকে নতুন করে গড়ে তুলছে, process automate করছে, আর মানুষের capabilities-ও বাড়াচ্ছে। AI-এর potential benefits immense, efficiency improve করা থেকে শুরু করে pressing societal issue-গুলো address করা পর্যন্ত।  কিন্তু এর সাথে significant ethical, economic, আর societal concerns-ও আছে, যেগুলো carefully navigate করতে হবে।\n",
      "\n",
      "AI-এর একটা profound impact হল healthcare-এ এর ব্যবহার। AI-powered diagnostic tool-গুলো early disease detection আর disease management-এ help করে, যার ফলে patient-দের result ভালো হয় আর healthcare cost-ও কমে। একটা machine learning algorithm medical data analyze করতে পারে আর এমন pattern identify করতে পারে, যেগুলো মানুষ notice করতে পারে না। এগুলো personalized treatment plan-এ help করতে পারে। Robotic surgery আর AI-driven drug discovery, medical procedure-এর efficiency অনেক বাড়িয়ে দিয়েছে। তবে, AI integration-এর ব্যাপারে\n",
      "Healthcare-এর use-এর ফলে data privacy, security, আর medical decision making-এ potential biases নিয়ে অনেক concern তৈরি হয়েছে।\n"
     ]
    }
   ],
   "source": [
    "# Define API request details\n",
    "url = \"https://api.sarvam.ai/translate\"\n",
    "headers = {\n",
    "    \"api-subscription-key\": SARVAM_API_KEY,\n",
    "    \"Content-Type\": \"application/json\"\n",
    "}\n",
    "\n",
    "# Send requests for each chunk\n",
    "translated_texts = []\n",
    "for idx, chunk in enumerate(hindi_text_chunks):\n",
    "    payload = {\n",
    "        \"source_language_code\": \"hi-IN\",\n",
    "        \"target_language_code\": \"bn-IN\",\n",
    "        \"speaker_gender\": \"Male\",\n",
    "        \"mode\": \"classic-colloquial\",\n",
    "        \"model\": \"mayura:v1\",\n",
    "        \"enable_preprocessing\": False,\n",
    "        \"input\": chunk\n",
    "    }\n",
    "\n",
    "    response = requests.post(url, json=payload, headers=headers)\n",
    "\n",
    "    if response.status_code == 200:\n",
    "        translated_text = response.json().get(\"translated_text\", \"Translation not available\")\n",
    "        translated_texts.append(translated_text)\n",
    "        print(f\"\\n=== Translated Chunk {idx + 1} ===\\n{translated_text}\\n\")\n",
    "    else:\n",
    "        print(f\"Error: {response.status_code}, {response.text}\")\n",
    "\n",
    "# Combine all translated chunks\n",
    "final_translation = \"\\n\".join(translated_texts)\n",
    "print(\"\\n=== Final Translated Text ===\")\n",
    "print(final_translation)"
   ]
  },
  {
   "attachments": {},
   "cell_type": "markdown",
   "metadata": {},
   "source": [
    "### **Eng to Indic Translation**  "
   ]
  },
  {
   "cell_type": "code",
   "execution_count": 12,
   "metadata": {},
   "outputs": [
    {
     "name": "stdout",
     "output_type": "stream",
     "text": [
      "\n",
      "=== Translated Chunk 1 ===\n",
      "Artificial Intelligence ਦਾ ਸਮਾਜ 'ਤੇ ਅਸਰ\n",
      "\n",
      "Artificial Intelligence (AI) 21st century ਦੀਆਂ ਸਭ ਤੋਂ ਵੱਡੀਆਂ technologies ਵਿੱਚੋਂ ਇੱਕ ਬਣ ਗਈ ਹੈ, ਜੋ ਮਨੁੱਖੀ ਜੀਵਨ ਦੇ ਕਈ ਪਹਿਲੂਆਂ ਵਿੱਚ ਕ੍ਰਾਂਤੀ ਲਿਆ ਰਹੀ ਹੈ। Healthcare ਤੋਂ ਲੈ ਕੇ finance, transportation ਤੋਂ ਲੈ ਕੇ education ਤੱਕ, AI industries ਨੂੰ ਬਦਲ ਰਿਹਾ ਹੈ, processes ਨੂੰ automate ਕਰ ਰਿਹਾ ਹੈ, ਅਤੇ ਮਨੁੱਖੀ ਯੋਗਤਾਵਾਂ ਨੂੰ ਵਧਾ ਰਿਹਾ ਹੈ। AI ਦੇ ਬਹੁਤ ਸਾਰੇ ਫਾਇਦੇ ਹਨ, ਪਰ ਇਸਦੇ ਨਾਲ ethical, economic ਅਤੇ societal concerns ਵੀ ਹਨ ਜਿਨ੍ਹਾਂ ਨੂੰ ਧਿਆਨ ਨਾਲ ਹੱਲ ਕਰਨਾ ਚਾਹੀਦਾ ਹੈ ਤਾਂ ਜੋ ਇਸਨੂੰ ਸਮਾਜ ਵਿੱਚ ਜ਼ਿੰਮੇਵਾਰੀ ਨਾਲ ਸ਼ਾਮਲ ਕੀਤਾ ਜਾ ਸਕੇ।\n",
      "\n",
      "AI ਦਾ ਸਭ ਤੋਂ ਵੱਡਾ ਪ੍ਰਭਾਵ healthcare ਦੇ ਖੇਤਰ ਵਿੱਚ ਹੈ। AI-powered diagnostic tools ਨਾਲ ਬਿਮਾਰੀ ਪਹਿਲਾਂ ਹੀ ਪਤਾ ਲੱਗ ਜਾਂਦੀ ਹੈ, ਜਿਸ ਨਾਲ ਮਰੀਜ਼ਾਂ ਦੇ ਨਤੀਜੇ ਚੰਗੇ ਹੁੰਦੇ ਹਨ ਅਤੇ healthcare cost ਘੱਟ ਹੁੰਦਾ ਹੈ। Machine learning algorithms medical data ਨੂੰ analyze ਕਰਕੇ patterns ਲੱਭਦੇ ਹਨ ਜੋ ਮਨੁੱਖ ਨਹੀਂ ਦੇਖ ਸਕਦੇ, ਜਿਸ ਨਾਲ personalized treatment plans ਵਿੱਚ ਮਦਦ ਮਿਲਦੀ ਹੈ। Robotic surgeries ਅਤੇ AI-driven drug discoveries ਨੇ medical procedures ਦੀ efficiency ਹੋਰ ਵਧਾ ਦਿੱਤੀ ਹੈ। ਪਰ, AI ਦਾ integration\n",
      "\n",
      "\n",
      "=== Translated Chunk 2 ===\n",
      "healthcare ਵਿੱਚ data privacy, security ਅਤੇ medical decision-making ਵਿੱਚ potential biases ਬਾਰੇ ਚਿੰਤਾਵਾਂ ਹਨ।\n",
      "\n",
      "\n",
      "=== Final Translated Text ===\n",
      "Artificial Intelligence ਦਾ ਸਮਾਜ 'ਤੇ ਅਸਰ\n",
      "\n",
      "Artificial Intelligence (AI) 21st century ਦੀਆਂ ਸਭ ਤੋਂ ਵੱਡੀਆਂ technologies ਵਿੱਚੋਂ ਇੱਕ ਬਣ ਗਈ ਹੈ, ਜੋ ਮਨੁੱਖੀ ਜੀਵਨ ਦੇ ਕਈ ਪਹਿਲੂਆਂ ਵਿੱਚ ਕ੍ਰਾਂਤੀ ਲਿਆ ਰਹੀ ਹੈ। Healthcare ਤੋਂ ਲੈ ਕੇ finance, transportation ਤੋਂ ਲੈ ਕੇ education ਤੱਕ, AI industries ਨੂੰ ਬਦਲ ਰਿਹਾ ਹੈ, processes ਨੂੰ automate ਕਰ ਰਿਹਾ ਹੈ, ਅਤੇ ਮਨੁੱਖੀ ਯੋਗਤਾਵਾਂ ਨੂੰ ਵਧਾ ਰਿਹਾ ਹੈ। AI ਦੇ ਬਹੁਤ ਸਾਰੇ ਫਾਇਦੇ ਹਨ, ਪਰ ਇਸਦੇ ਨਾਲ ethical, economic ਅਤੇ societal concerns ਵੀ ਹਨ ਜਿਨ੍ਹਾਂ ਨੂੰ ਧਿਆਨ ਨਾਲ ਹੱਲ ਕਰਨਾ ਚਾਹੀਦਾ ਹੈ ਤਾਂ ਜੋ ਇਸਨੂੰ ਸਮਾਜ ਵਿੱਚ ਜ਼ਿੰਮੇਵਾਰੀ ਨਾਲ ਸ਼ਾਮਲ ਕੀਤਾ ਜਾ ਸਕੇ।\n",
      "\n",
      "AI ਦਾ ਸਭ ਤੋਂ ਵੱਡਾ ਪ੍ਰਭਾਵ healthcare ਦੇ ਖੇਤਰ ਵਿੱਚ ਹੈ। AI-powered diagnostic tools ਨਾਲ ਬਿਮਾਰੀ ਪਹਿਲਾਂ ਹੀ ਪਤਾ ਲੱਗ ਜਾਂਦੀ ਹੈ, ਜਿਸ ਨਾਲ ਮਰੀਜ਼ਾਂ ਦੇ ਨਤੀਜੇ ਚੰਗੇ ਹੁੰਦੇ ਹਨ ਅਤੇ healthcare cost ਘੱਟ ਹੁੰਦਾ ਹੈ। Machine learning algorithms medical data ਨੂੰ analyze ਕਰਕੇ patterns ਲੱਭਦੇ ਹਨ ਜੋ ਮਨੁੱਖ ਨਹੀਂ ਦੇਖ ਸਕਦੇ, ਜਿਸ ਨਾਲ personalized treatment plans ਵਿੱਚ ਮਦਦ ਮਿਲਦੀ ਹੈ। Robotic surgeries ਅਤੇ AI-driven drug discoveries ਨੇ medical procedures ਦੀ efficiency ਹੋਰ ਵਧਾ ਦਿੱਤੀ ਹੈ। ਪਰ, AI ਦਾ integration\n",
      "healthcare ਵਿੱਚ data privacy, security ਅਤੇ medical decision-making ਵਿੱਚ potential biases ਬਾਰੇ ਚਿੰਤਾਵਾਂ ਹਨ।\n"
     ]
    }
   ],
   "source": [
    "# Define API request details\n",
    "url = \"https://api.sarvam.ai/translate\"\n",
    "headers = {\n",
    "    \"api-subscription-key\": SARVAM_API_KEY,\n",
    "    \"Content-Type\": \"application/json\"\n",
    "}\n",
    "\n",
    "# Send requests for each chunk\n",
    "translated_texts = []\n",
    "for idx, chunk in enumerate(english_text_chunks):\n",
    "    payload = {\n",
    "        \"source_language_code\": \"en-IN\",\n",
    "        \"target_language_code\": \"pa-IN\",\n",
    "        \"speaker_gender\": \"Male\",\n",
    "        \"mode\": \"classic-colloquial\",\n",
    "        \"model\": \"mayura:v1\",\n",
    "        \"enable_preprocessing\": False,\n",
    "        \"input\": chunk\n",
    "    }\n",
    "\n",
    "    response = requests.post(url, json=payload, headers=headers)\n",
    "\n",
    "    if response.status_code == 200:\n",
    "        translated_text = response.json().get(\"translated_text\", \"Translation not available\")\n",
    "        translated_texts.append(translated_text)\n",
    "        print(f\"\\n=== Translated Chunk {idx + 1} ===\\n{translated_text}\\n\")\n",
    "    else:\n",
    "        print(f\"Error: {response.status_code}, {response.text}\")\n",
    "\n",
    "# Combine all translated chunks\n",
    "final_translation = \"\\n\".join(translated_texts)\n",
    "print(\"\\n=== Final Translated Text ===\")\n",
    "print(final_translation)"
   ]
  },
  {
   "attachments": {},
   "cell_type": "markdown",
   "metadata": {},
   "source": [
    "## **Step 4: Translation Modes**  \n",
    "\n",
    "### **Translation Modes & Differences**  \n",
    "\n",
    "1️⃣ **Formal** – Highly professional, uses **pure Hindi** (e.g., *\"कुल राशि\", \"देय है\"*). Suitable for **official documents, legal papers, and corporate communication**.  \n",
    "\n",
    "2️⃣ **Classic-Colloquial** – Balanced mix of **Hindi & English**, slightly informal (e.g., *\"कुल जोड़\", \"देना होगा\"*). Ideal for **business emails, customer support, and semi-formal communication**.  \n",
    "\n",
    "3️⃣ **Modern-Colloquial** – **Hinglish, casual, and direct** (e.g., *\"Invoice total\", \"due है\", \"contact करो\"*). Best for **chatbots, social media, and casual conversations**.  \n",
    "\n",
    "**📌 Rule of Thumb:**  \n",
    "- **Use Formal for official content** 🏛  \n",
    "- **Use Classic-Colloquial for general communication** 💬  \n",
    "- **Use Modern-Colloquial for everyday conversations** 🚀  \n",
    "\n"
   ]
  },
  {
   "cell_type": "code",
   "execution_count": 13,
   "metadata": {},
   "outputs": [],
   "source": [
    "# To highlight the difference between the models lets use the below example.\n",
    "full_text = (\n",
    "    \"The invoice total is $3,450.75, due by 15th March 2025. Contact us at support@example.com for queries. \"\n",
    "    \"Order #987654321 was placed on 02/29/2024. Your tracking ID is TRK12345678.\"\n",
    ")"
   ]
  },
  {
   "cell_type": "code",
   "execution_count": 14,
   "metadata": {},
   "outputs": [],
   "source": [
    "# Define API request details\n",
    "url = \"https://api.sarvam.ai/translate\"\n",
    "headers = {\n",
    "    \"api-subscription-key\": SARVAM_API_KEY,\n",
    "    \"Content-Type\": \"application/json\"\n",
    "}"
   ]
  },
  {
   "attachments": {},
   "cell_type": "markdown",
   "metadata": {},
   "source": [
    "### **Step 4.1: Classic Colloquial**  "
   ]
  },
  {
   "cell_type": "code",
   "execution_count": 15,
   "metadata": {},
   "outputs": [
    {
     "name": "stdout",
     "output_type": "stream",
     "text": [
      "\n",
      "=== Translated Text ===\n",
      " Invoice का कुल रक़म 3,450.75 dollar है, जो 15th March 2025 तक देना होगा। किसी भी सवाल के लिए support@example.com पर हमसे contact करें। Order #987654321 02/29/2024 को रखा गया था। आपका tracking ID TRK12345678 है।\n"
     ]
    }
   ],
   "source": [
    "# Create the request payload\n",
    "payload = {\n",
    "    \"source_language_code\": \"en-IN\",\n",
    "    \"target_language_code\": \"hi-IN\",\n",
    "    \"speaker_gender\": \"Male\",\n",
    "    \"mode\": \"classic-colloquial\",\n",
    "    \"model\": \"mayura:v1\",\n",
    "    \"enable_preprocessing\": False,\n",
    "    \"input\": full_text\n",
    "}\n",
    "\n",
    "# Send the request\n",
    "response = requests.post(url, json=payload, headers=headers)\n",
    "\n",
    "# Check the response\n",
    "if response.status_code == 200:\n",
    "    translated_text = response.json().get(\"translated_text\", \"Translation not available\")\n",
    "    print(\"\\n=== Translated Text ===\\n\", translated_text)\n",
    "else:\n",
    "    print(f\"Error: {response.status_code}, {response.text}\")\n"
   ]
  },
  {
   "attachments": {},
   "cell_type": "markdown",
   "metadata": {},
   "source": [
    "### **Step 4.2: Formal**  "
   ]
  },
  {
   "cell_type": "code",
   "execution_count": 16,
   "metadata": {},
   "outputs": [
    {
     "name": "stdout",
     "output_type": "stream",
     "text": [
      "\n",
      "=== Translated Text ===\n",
      " बिलकुल कुल राशि 3,450.75 डॉलर है, जो 15 मार्च 2025 तक देय है। प्रश्नों के लिए support@example.com पर हमसे संपर्क करें। 02/29/2024 को आदेश #987654321 दर्ज किया गया था। आपका ट्रैकिंग आईडी टीआरके12345678 है।\n"
     ]
    }
   ],
   "source": [
    "# Create the request payload\n",
    "payload = {\n",
    "    \"source_language_code\": \"en-IN\",\n",
    "    \"target_language_code\": \"hi-IN\",\n",
    "    \"speaker_gender\": \"Male\",\n",
    "    \"mode\": \"formal\",\n",
    "    \"model\": \"mayura:v1\",\n",
    "    \"enable_preprocessing\": False,\n",
    "    \"input\": full_text\n",
    "}\n",
    "\n",
    "# Send the request\n",
    "response = requests.post(url, json=payload, headers=headers)\n",
    "\n",
    "# Check the response\n",
    "if response.status_code == 200:\n",
    "    translated_text = response.json().get(\"translated_text\", \"Translation not available\")\n",
    "    print(\"\\n=== Translated Text ===\\n\", translated_text)\n",
    "else:\n",
    "    print(f\"Error: {response.status_code}, {response.text}\")\n"
   ]
  },
  {
   "attachments": {},
   "cell_type": "markdown",
   "metadata": {},
   "source": [
    "### **Step 4.3: Modern Colloquial**  "
   ]
  },
  {
   "cell_type": "code",
   "execution_count": 17,
   "metadata": {},
   "outputs": [
    {
     "name": "stdout",
     "output_type": "stream",
     "text": [
      "\n",
      "=== Translated Text ===\n",
      " Invoice total $3,450.75 है, 15th March 2025 तक due है। Queries के लिए support@example.com पर contact करो। 02/29/2024 को Order #987654321 place हुआ था। आपका tracking ID TRK12345678 है।\n"
     ]
    }
   ],
   "source": [
    "# Create the request payload\n",
    "payload = {\n",
    "    \"source_language_code\": \"en-IN\",\n",
    "    \"target_language_code\": \"hi-IN\",\n",
    "    \"speaker_gender\": \"Male\",\n",
    "    \"mode\": \"modern-colloquial\",\n",
    "    \"model\": \"mayura:v1\",\n",
    "    \"enable_preprocessing\": False,\n",
    "    \"input\": full_text\n",
    "}\n",
    "\n",
    "# Send the request\n",
    "response = requests.post(url, json=payload, headers=headers)\n",
    "\n",
    "# Check the response\n",
    "if response.status_code == 200:\n",
    "    translated_text = response.json().get(\"translated_text\", \"Translation not available\")\n",
    "    print(\"\\n=== Translated Text ===\\n\", translated_text)\n",
    "else:\n",
    "    print(f\"Error: {response.status_code}, {response.text}\")\n"
   ]
  },
  {
   "attachments": {},
   "cell_type": "markdown",
   "metadata": {},
   "source": [
    "## **Step 5: Advanced Features**  \n",
    "\n",
    "\n",
    "\n"
   ]
  },
  {
   "attachments": {},
   "cell_type": "markdown",
   "metadata": {},
   "source": [
    "### **Step 5.1: Speaker Gender**  \n",
    "\n",
    "The translation model supports **Male** and **Female** speaker options, which impact the tone and style of the output.  \n",
    "\n",
    "1️⃣ **Male Voice** 🔵 \n",
    "\n",
    "2️⃣ **Female Voice** 🔴 \n"
   ]
  },
  {
   "attachments": {},
   "cell_type": "markdown",
   "metadata": {},
   "source": [
    "### **Female**  "
   ]
  },
  {
   "cell_type": "code",
   "execution_count": 18,
   "metadata": {},
   "outputs": [
    {
     "name": "stdout",
     "output_type": "stream",
     "text": [
      "\n",
      "=== Translated Text ===\n",
      " Invoice total $3,450.75 है, 15th March 2025 तक due है। Queries के लिए support@example.com पर contact करो। 02/29/2024 को Order #987654321 place हुआ था। आपका tracking ID TRK12345678 है।\n"
     ]
    }
   ],
   "source": [
    "payload = {\n",
    "    \"source_language_code\": \"en-IN\",\n",
    "    \"target_language_code\": \"hi-IN\",\n",
    "    \"speaker_gender\": \"Female\",\n",
    "    \"mode\": \"modern-colloquial\",\n",
    "    \"model\": \"mayura:v1\",\n",
    "    \"enable_preprocessing\": False,\n",
    "    \"input\": full_text\n",
    "}\n",
    "\n",
    "# Send the request\n",
    "response = requests.post(url, json=payload, headers=headers)\n",
    "\n",
    "# Check the response\n",
    "if response.status_code == 200:\n",
    "    translated_text = response.json().get(\"translated_text\", \"Translation not available\")\n",
    "    print(\"\\n=== Translated Text ===\\n\", translated_text)\n",
    "else:\n",
    "    print(f\"Error: {response.status_code}, {response.text}\")\n"
   ]
  },
  {
   "attachments": {},
   "cell_type": "markdown",
   "metadata": {},
   "source": [
    "### **Male**  "
   ]
  },
  {
   "cell_type": "code",
   "execution_count": 19,
   "metadata": {},
   "outputs": [
    {
     "name": "stdout",
     "output_type": "stream",
     "text": [
      "\n",
      "=== Translated Text ===\n",
      " Invoice total $3,450.75 है, 15th March 2025 तक due है। Queries के लिए support@example.com पर contact करो। 02/29/2024 को Order #987654321 place हुआ था। आपका tracking ID TRK12345678 है।\n"
     ]
    }
   ],
   "source": [
    "payload = {\n",
    "    \"source_language_code\": \"en-IN\",\n",
    "    \"target_language_code\": \"hi-IN\",\n",
    "    \"speaker_gender\": \"Male\",\n",
    "    \"mode\": \"modern-colloquial\",\n",
    "    \"model\": \"mayura:v1\",\n",
    "    \"enable_preprocessing\": False,\n",
    "    \"input\": full_text\n",
    "}\n",
    "\n",
    "response = requests.post(url, json=payload, headers=headers)\n",
    "if response.status_code == 200:\n",
    "    translated_text = response.json().get(\"translated_text\", \"Translation not available\")\n",
    "    print(\"\\n=== Translated Text ===\\n\", translated_text)\n",
    "else:\n",
    "    print(f\"Error: {response.status_code}, {response.text}\")\n"
   ]
  },
  {
   "attachments": {},
   "cell_type": "markdown",
   "metadata": {},
   "source": [
    "### **Step 5.2: Numerals Format Feature**  \n",
    "\n",
    "The `numerals_format` parameter controls how numbers appear in the translation. It has two options:  \n",
    "\n",
    "1️⃣ **International (Default)** 🌍 → Uses standard **0-9** numerals.  \n",
    "✅ Example: *\"मेरा phone number है: 9840950950.\"*  \n",
    "✅ Best for **universally understood content, technical documents, and modern usage**.  \n",
    "\n",
    "2️⃣ **Native** 🔡 → Uses **language-specific** numerals.  \n",
    "✅ Example: *\"मेरा phone number है: ९८४०९५०९५०.\"*  \n",
    "✅ Ideal for **traditional texts, cultural adaptation, and regional content**.  \n",
    "\n",
    "**📌 When to Use What?**  \n",
    "- Use **International** for **wider readability and digital content** 📱  \n",
    "- Use **Native** for **localized, heritage-focused, and print media content** 📖  \n"
   ]
  },
  {
   "attachments": {},
   "cell_type": "markdown",
   "metadata": {},
   "source": [
    "### **Native**  "
   ]
  },
  {
   "cell_type": "code",
   "execution_count": 20,
   "metadata": {},
   "outputs": [
    {
     "name": "stdout",
     "output_type": "stream",
     "text": [
      "\n",
      "=== Translated Text ===\n",
      " Invoice total $३,४५०.७५ है, १५th March २०२५ तक due है। Queries के लिए support@example.com पर contact करो। ०२/२९/२०२४ को Order #९८७६५४३२१ place हुआ था। आपका tracking ID TRK१२३४५६७८ है।\n"
     ]
    }
   ],
   "source": [
    "# Create the request payload\n",
    "payload = {\n",
    "    \"source_language_code\": \"en-IN\",\n",
    "    \"target_language_code\": \"hi-IN\",\n",
    "    \"speaker_gender\": \"Female\",\n",
    "    \"mode\": \"modern-colloquial\",\n",
    "    \"model\": \"mayura:v1\",\n",
    "    \"enable_preprocessing\": False,\n",
    "    \"numerals_format\": \"native\",\n",
    "    \"input\": full_text\n",
    "}\n",
    "\n",
    "# Send the request\n",
    "response = requests.post(url, json=payload, headers=headers)\n",
    "\n",
    "# Check the response\n",
    "if response.status_code == 200:\n",
    "    translated_text = response.json().get(\"translated_text\", \"Translation not available\")\n",
    "    print(\"\\n=== Translated Text ===\\n\", translated_text)\n",
    "else:\n",
    "    print(f\"Error: {response.status_code}, {response.text}\")\n"
   ]
  },
  {
   "attachments": {},
   "cell_type": "markdown",
   "metadata": {},
   "source": [
    "### **International**  "
   ]
  },
  {
   "cell_type": "code",
   "execution_count": 21,
   "metadata": {},
   "outputs": [
    {
     "name": "stdout",
     "output_type": "stream",
     "text": [
      "\n",
      "=== Translated Text ===\n",
      " Invoice total $3,450.75 है, 15th March 2025 तक due है। Queries के लिए support@example.com पर contact करो। 02/29/2024 को Order #987654321 place हुआ था। आपका tracking ID TRK12345678 है।\n"
     ]
    }
   ],
   "source": [
    "# Create the request payload\n",
    "payload = {\n",
    "    \"source_language_code\": \"en-IN\",\n",
    "    \"target_language_code\": \"hi-IN\",\n",
    "    \"speaker_gender\": \"Female\",\n",
    "    \"mode\": \"modern-colloquial\",\n",
    "    \"model\": \"mayura:v1\",\n",
    "    \"enable_preprocessing\": False,\n",
    "    \"numerals_format\": \"international\",\n",
    "    \"input\": full_text\n",
    "}\n",
    "\n",
    "# Send the request\n",
    "response = requests.post(url, json=payload, headers=headers)\n",
    "\n",
    "# Check the response\n",
    "if response.status_code == 200:\n",
    "    translated_text = response.json().get(\"translated_text\", \"Translation not available\")\n",
    "    print(\"\\n=== Translated Text ===\\n\", translated_text)\n",
    "else:\n",
    "    print(f\"Error: {response.status_code}, {response.text}\")\n"
   ]
  },
  {
   "attachments": {},
   "cell_type": "markdown",
   "metadata": {},
   "source": [
    "### **Step 5.3: Numerals Format Feature**  \n",
    "\n",
    "The `output_script` parameter controls how the translated text is **transliterated**, i.e., how it appears in different scripts while keeping pronunciation intact.  \n",
    "\n",
    "### **Transliteration Options:**  \n",
    "\n",
    "1️⃣ **Default (null)** – No transliteration applied.  \n",
    "✅ Example: *\"आपका Rs. 3000 का EMI pending है।\"*  \n",
    "✅ Best for **modern, mixed-language content**.  \n",
    "\n",
    "2️⃣ **Roman** – Converts the output into **Romanized Hindi**.  \n",
    "✅ Example: *\"aapka Rs. 3000 ka EMI pending hai.\"*  \n",
    "✅ Ideal for **users who can speak but not read native scripts**.  \n",
    "\n",
    "3️⃣ **Fully-Native** – Uses **formal native script transliteration**.  \n",
    "✅ Example: *\"आपका रु. 3000 का ई.एम.ऐ. पेंडिंग है।\"*  \n",
    "✅ Best for **official documents and structured writing**.  \n",
    "\n",
    "4️⃣ **Spoken-Form-in-Native** – Uses **native script but mimics spoken style**.  \n",
    "✅ Example: *\"आपका थ्री थाउजेंड रूपीस का ईएमअइ पेंडिंग है।\"*  \n",
    "✅ Ideal for **voice assistants, conversational AI, and informal speech**.  \n",
    "\n",
    "### **📌 When to Use What?**  \n",
    "- **Default** – For natural, mixed-language modern writing ✍️  \n",
    "- **Roman** – For users unfamiliar with native scripts 🔤  \n",
    "- **Fully-Native** – For formal, structured translations 🏛  \n",
    "- **Spoken-Form-in-Native** – For casual speech and voice applications 🎙  \n"
   ]
  },
  {
   "cell_type": "code",
   "execution_count": 22,
   "metadata": {},
   "outputs": [
    {
     "name": "stdout",
     "output_type": "stream",
     "text": [
      "\n",
      "=== Translated Text ===\n",
      " Invoice total $3,450.75 hai, 15th March 2025 tak due hai. Queries ke liye support@example.com par contact karo. 02/29/2024 ko Order #987654321 place hua tha. Aapka tracking ID TRK12345678 hai.\n"
     ]
    }
   ],
   "source": [
    "payload = {\n",
    "    \"source_language_code\": \"en-IN\",\n",
    "    \"target_language_code\": \"hi-IN\",\n",
    "    \"speaker_gender\": \"Female\",\n",
    "    \"mode\": \"modern-colloquial\",\n",
    "    \"model\": \"mayura:v1\",\n",
    "    \"enable_preprocessing\": False,\n",
    "    \"output_script\":\"roman\",\n",
    "    \"numerals_format\": \"international\",\n",
    "    \"input\": full_text\n",
    "}\n",
    "\n",
    "# Send the request\n",
    "response = requests.post(url, json=payload, headers=headers)\n",
    "\n",
    "# Check the response\n",
    "if response.status_code == 200:\n",
    "    translated_text = response.json().get(\"translated_text\", \"Translation not available\")\n",
    "    print(\"\\n=== Translated Text ===\\n\", translated_text)\n",
    "else:\n",
    "    print(f\"Error: {response.status_code}, {response.text}\")\n"
   ]
  },
  {
   "cell_type": "code",
   "execution_count": 23,
   "metadata": {},
   "outputs": [
    {
     "name": "stdout",
     "output_type": "stream",
     "text": [
      "\n",
      "=== Translated Text ===\n",
      " इनवॉइस टोटल थ्री थाउजेंड, फोर हंड्रेड एंड फिफ्टी पॉइंट सेवन फाइव यू एस डॉलर्स है, फिफ्टीन्थ मार्च ट्वेंटी ट्वेंटी फाइव तक ड्यू है। क्वेरीज़ के लिए सपोर्ट एट द रेट एक्जाम्पल डॉट कॉम पर कांटेक्ट करो। ट्वेंटी नाइंथ फ़रवरी ट्वेंटी ट्वेंटी फोर को ऑर्डर हैश नाइन एइट सेवन, सिक्स फाइव फोर, थ्री टू वन प्लेस हुआ था। आपका ट्रैकिंग आईडी टी आर के वन टू थ्री, फोर फाइव सिक्स, सेवन एइट है।\n"
     ]
    }
   ],
   "source": [
    "\n",
    "payload = {\n",
    "    \"source_language_code\": \"en-IN\",\n",
    "    \"target_language_code\": \"hi-IN\",\n",
    "    \"speaker_gender\": \"Female\",\n",
    "    \"mode\": \"modern-colloquial\",\n",
    "    \"model\": \"mayura:v1\",\n",
    "    \"enable_preprocessing\": False,\n",
    "    \"output_script\":\"spoken-form-in-native\",\n",
    "    \"numerals_format\": \"international\",\n",
    "    \"input\": full_text\n",
    "}\n",
    "\n",
    "# Send the request\n",
    "response = requests.post(url, json=payload, headers=headers)\n",
    "\n",
    "# Check the response\n",
    "if response.status_code == 200:\n",
    "    translated_text = response.json().get(\"translated_text\", \"Translation not available\")\n",
    "    print(\"\\n=== Translated Text ===\\n\", translated_text)\n",
    "else:\n",
    "    print(f\"Error: {response.status_code}, {response.text}\")\n"
   ]
  },
  {
   "cell_type": "code",
   "execution_count": 24,
   "metadata": {},
   "outputs": [
    {
     "name": "stdout",
     "output_type": "stream",
     "text": [
      "\n",
      "=== Translated Text ===\n",
      " इन्वॉइस टोटल $3,450.75 है, 15th March 2025 तक ड्यू है। क्वेरीज़ के लिए support@example.com पर कॉन्टैक्ट करो। 02/29/2024 को ऑर्डर #987654321 प्लेस हुआ था। आपका ट्रैकिंग ID TRK12345678 है।\n"
     ]
    }
   ],
   "source": [
    "# Create the request payload\n",
    "payload = {\n",
    "    \"source_language_code\": \"en-IN\",\n",
    "    \"target_language_code\": \"hi-IN\",\n",
    "    \"speaker_gender\": \"Female\",\n",
    "    \"mode\": \"modern-colloquial\",\n",
    "    \"model\": \"mayura:v1\",\n",
    "    \"enable_preprocessing\": False,\n",
    "    \"output_script\":\"fully-native\",\n",
    "    \"numerals_format\": \"international\",\n",
    "    \"input\": full_text\n",
    "}\n",
    "\n",
    "# Send the request\n",
    "response = requests.post(url, json=payload, headers=headers)\n",
    "\n",
    "# Check the response\n",
    "if response.status_code == 200:\n",
    "    translated_text = response.json().get(\"translated_text\", \"Translation not available\")\n",
    "    print(\"\\n=== Translated Text ===\\n\", translated_text)\n",
    "else:\n",
    "    print(f\"Error: {response.status_code}, {response.text}\")\n"
   ]
  },
  {
   "cell_type": "markdown",
   "metadata": {},
   "source": [
    "\n",
    "\n",
    "## **6️. Error Handling**  \n",
    "\n",
    "You may encounter these errors while using the API:  \n",
    "\n",
    "- **403 Forbidden** (`invalid_api_key_error`)  \n",
    "  - Cause: Invalid API key.  \n",
    "  - Solution: Use a valid API key from the [Sarvam AI Dashboard](https://dashboard.sarvam.ai/).  \n",
    "\n",
    "- **429 Too Many Requests** (`insufficient_quota_error`)  \n",
    "  - Cause: Exceeded API quota.  \n",
    "  - Solution: Check your usage, upgrade if needed, or implement exponential backoff when retrying.  \n",
    "\n",
    "- **500 Internal Server Error** (`internal_server_error`)  \n",
    "  - Cause: Issue on our servers.  \n",
    "  - Solution: Try again later. If persistent, contact support.  \n",
    "\n",
    "- **400 Bad Request** (`invalid_request_error`)  \n",
    "  - Cause: Incorrect request formatting.  \n",
    "  - Solution: Verify your request structure and parameters.  \n",
    "\n"
   ]
  },
  {
   "cell_type": "markdown",
   "metadata": {},
   "source": [
    "### **7. Additional Resources**\n",
    "\n",
    "For more details, refer to the our official documentation and we are always there to support and help you on our Discord Server:\n",
    "\n",
    "- **Documentation**: [docs.sarvam.ai](https://docs.sarvam.ai)  \n",
    "- **Community**: [Join the Discord Community](https://discord.gg/hTuVuPNF)\n",
    "\n",
    "---\n",
    "\n",
    "### **8. Final Notes**\n",
    "\n",
    "- Keep your API key secure.\n",
    "- Use clear audio for best results.\n",
    "- Explore advanced features like diarization and translation.\n",
    "\n",
    "**Keep Building!** 🚀"
   ]
  }
 ],
 "metadata": {
  "kernelspec": {
   "display_name": "Python 3",
   "language": "python",
   "name": "python3"
  },
  "language_info": {
   "codemirror_mode": {
    "name": "ipython",
    "version": 3
   },
   "file_extension": ".py",
   "mimetype": "text/x-python",
   "name": "python",
   "nbconvert_exporter": "python",
   "pygments_lexer": "ipython3",
   "version": "3.12.4"
  },
  "orig_nbformat": 4
 },
 "nbformat": 4,
 "nbformat_minor": 2
}
