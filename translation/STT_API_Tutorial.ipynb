{
  "cells": [
    {
      "cell_type": "markdown",
      "id": "h6LiHbLsHGbO",
      "metadata": {
        "id": "h6LiHbLsHGbO"
      },
      "source": [
        "# **STT API Tutorial**\n",
        "\n",
        "This notebook provides a step-by-step guide on how to use the STT API for speech-to-text tasks. It includes instructions for installation, setting up the API key, uploading audio files, and using the API for transcription and translation.*italicised text*\n",
        "\n"
      ]
    },
    {
      "cell_type": "markdown",
      "id": "Vvf7s2t8H3EO",
      "metadata": {
        "id": "Vvf7s2t8H3EO"
      },
      "source": [
        "### **1. Installation**\n",
        "Before you begin, ensure you have the necessary Python libraries installed. Run the following commands to install the required packages:\n"
      ]
    },
    {
      "cell_type": "code",
      "execution_count": 25,
      "id": "OvZ0-mhCoN8-",
      "metadata": {
        "colab": {
          "base_uri": "https://localhost:8080/"
        },
        "id": "OvZ0-mhCoN8-",
        "outputId": "1a5cdb38-64f4-418e-9217-a2e5fcc85c23"
      },
      "outputs": [
        {
          "name": "stdout",
          "output_type": "stream",
          "text": [
            "Requirement already satisfied: requests in /usr/local/lib/python3.10/dist-packages (2.32.3)\n",
            "Requirement already satisfied: pandas in /usr/local/lib/python3.10/dist-packages (2.2.2)\n",
            "Requirement already satisfied: pydub in /usr/local/lib/python3.10/dist-packages (0.25.1)\n",
            "Requirement already satisfied: charset-normalizer<4,>=2 in /usr/local/lib/python3.10/dist-packages (from requests) (3.4.0)\n",
            "Requirement already satisfied: idna<4,>=2.5 in /usr/local/lib/python3.10/dist-packages (from requests) (3.10)\n",
            "Requirement already satisfied: urllib3<3,>=1.21.1 in /usr/local/lib/python3.10/dist-packages (from requests) (2.2.3)\n",
            "Requirement already satisfied: certifi>=2017.4.17 in /usr/local/lib/python3.10/dist-packages (from requests) (2024.12.14)\n",
            "Requirement already satisfied: numpy>=1.22.4 in /usr/local/lib/python3.10/dist-packages (from pandas) (1.26.4)\n",
            "Requirement already satisfied: python-dateutil>=2.8.2 in /usr/local/lib/python3.10/dist-packages (from pandas) (2.8.2)\n",
            "Requirement already satisfied: pytz>=2020.1 in /usr/local/lib/python3.10/dist-packages (from pandas) (2024.2)\n",
            "Requirement already satisfied: tzdata>=2022.7 in /usr/local/lib/python3.10/dist-packages (from pandas) (2024.2)\n",
            "Requirement already satisfied: six>=1.5 in /usr/local/lib/python3.10/dist-packages (from python-dateutil>=2.8.2->pandas) (1.17.0)\n"
          ]
        }
      ],
      "source": [
        "!pip install requests pandas pydub\n"
      ]
    },
    {
      "cell_type": "markdown",
      "id": "mVA_CIlg64od",
      "metadata": {
        "id": "mVA_CIlg64od"
      },
      "source": [
        "### **1. Import Required Libraries**\n",
        "\n",
        "This section imports the necessary Python libraries for making HTTP requests, handling audio files, and managing data."
      ]
    },
    {
      "cell_type": "code",
      "execution_count": 26,
      "id": "8bc4d76f-ca04-4641-871c-91e53748f387",
      "metadata": {
        "id": "8bc4d76f-ca04-4641-871c-91e53748f387"
      },
      "outputs": [],
      "source": [
        "import requests\n",
        "import pandas as pd\n",
        "from pydub import AudioSegment\n",
        "import io"
      ]
    },
    {
      "cell_type": "markdown",
      "id": "Eqdfvakn8Kw_",
      "metadata": {
        "id": "Eqdfvakn8Kw_"
      },
      "source": [
        "### **2. Set Up the API Endpoint and Payload**\n",
        "\n",
        "To use the Saaras API, you need an API subscription key. Follow these steps to set up your API key:\n",
        "\n",
        "1. **Obtain your API key**: If you don’t have an API key, sign up on the [Sarvam AI Dashboard](https://dashboard.sarvam.ai/) to get one.\n",
        "2. **Replace the placeholder key**: In the code below, replace \"YOUR_SARVAM_AI_API_KEY\" with your actual API key."
      ]
    },
    {
      "cell_type": "code",
      "execution_count": 27,
      "id": "Kp_kAaY0dtA9",
      "metadata": {
        "id": "Kp_kAaY0dtA9"
      },
      "outputs": [],
      "source": [
        "SARVAM_AI_API=\"YOUR_SARVAM_AI_API_KEY\""
      ]
    },
    {
      "cell_type": "markdown",
      "id": "e8cMSRCudveP",
      "metadata": {
        "id": "e8cMSRCudveP"
      },
      "source": [
        "### ***2.1 Setting Up the API Endpoint and Payload***\n",
        "\n",
        "This section defines the API endpoint and the payload for the translation request. Replace the placeholder values with your actual API key and desired parameters."
      ]
    },
    {
      "cell_type": "code",
      "execution_count": 28,
      "id": "SPSBBgRc6Zjm",
      "metadata": {
        "id": "SPSBBgRc6Zjm"
      },
      "outputs": [],
      "source": [
        "# API endpoint for speech-to-text\n",
        "api_url = \"https://api.sarvam.ai/speech-to-text\"\n",
        "\n",
        "# Headers containing the API subscription key\n",
        "headers = {\n",
        "    \"api-subscription-key\": SARVAM_AI_API  # Replace with your API key\n",
        "}\n",
        "\n",
        "# Data payload for the transcription request\n",
        "data = {\n",
        "    \"language_code\": \"hi-IN\",  # Specify the language of the audio (e.g., 'hi-IN' for Hindi)\n",
        "    \"model\": \"saarika:v2\",     # Specify the model to be used for transcription\n",
        "    \"with_timestamps\": False   # Set to True if you want word-level timestamps\n",
        "}"
      ]
    },
    {
      "cell_type": "markdown",
      "id": "qaC3-oLTeZ8T",
      "metadata": {
        "id": "qaC3-oLTeZ8T"
      },
      "source": [
        "## **3. Uploading Audio Files**\n",
        "\n",
        "To translate audio, you need to upload a `.wav` file. Follow these steps:\n",
        "\n",
        "1. **Prepare your audio file**: Ensure your audio file is in `.wav` format. If your file is in a different format, you can use tools like `pydub` to convert it.\n",
        "2. **Upload the file**: If you're using Google Colab, you can upload the file using the file uploader:"
      ]
    },
    {
      "cell_type": "code",
      "execution_count": 29,
      "id": "9ekiIlxBeeV5",
      "metadata": {
        "colab": {
          "base_uri": "https://localhost:8080/",
          "height": 73
        },
        "id": "9ekiIlxBeeV5",
        "outputId": "9691235e-ec4d-4c27-ed1e-cae6714c3138"
      },
      "outputs": [
        {
          "data": {
            "text/html": [
              "\n",
              "     <input type=\"file\" id=\"files-98aa77e4-0c20-4c7a-967d-9c0e99dc38d9\" name=\"files[]\" multiple disabled\n",
              "        style=\"border:none\" />\n",
              "     <output id=\"result-98aa77e4-0c20-4c7a-967d-9c0e99dc38d9\">\n",
              "      Upload widget is only available when the cell has been executed in the\n",
              "      current browser session. Please rerun this cell to enable.\n",
              "      </output>\n",
              "      <script>// Copyright 2017 Google LLC\n",
              "//\n",
              "// Licensed under the Apache License, Version 2.0 (the \"License\");\n",
              "// you may not use this file except in compliance with the License.\n",
              "// You may obtain a copy of the License at\n",
              "//\n",
              "//      http://www.apache.org/licenses/LICENSE-2.0\n",
              "//\n",
              "// Unless required by applicable law or agreed to in writing, software\n",
              "// distributed under the License is distributed on an \"AS IS\" BASIS,\n",
              "// WITHOUT WARRANTIES OR CONDITIONS OF ANY KIND, either express or implied.\n",
              "// See the License for the specific language governing permissions and\n",
              "// limitations under the License.\n",
              "\n",
              "/**\n",
              " * @fileoverview Helpers for google.colab Python module.\n",
              " */\n",
              "(function(scope) {\n",
              "function span(text, styleAttributes = {}) {\n",
              "  const element = document.createElement('span');\n",
              "  element.textContent = text;\n",
              "  for (const key of Object.keys(styleAttributes)) {\n",
              "    element.style[key] = styleAttributes[key];\n",
              "  }\n",
              "  return element;\n",
              "}\n",
              "\n",
              "// Max number of bytes which will be uploaded at a time.\n",
              "const MAX_PAYLOAD_SIZE = 100 * 1024;\n",
              "\n",
              "function _uploadFiles(inputId, outputId) {\n",
              "  const steps = uploadFilesStep(inputId, outputId);\n",
              "  const outputElement = document.getElementById(outputId);\n",
              "  // Cache steps on the outputElement to make it available for the next call\n",
              "  // to uploadFilesContinue from Python.\n",
              "  outputElement.steps = steps;\n",
              "\n",
              "  return _uploadFilesContinue(outputId);\n",
              "}\n",
              "\n",
              "// This is roughly an async generator (not supported in the browser yet),\n",
              "// where there are multiple asynchronous steps and the Python side is going\n",
              "// to poll for completion of each step.\n",
              "// This uses a Promise to block the python side on completion of each step,\n",
              "// then passes the result of the previous step as the input to the next step.\n",
              "function _uploadFilesContinue(outputId) {\n",
              "  const outputElement = document.getElementById(outputId);\n",
              "  const steps = outputElement.steps;\n",
              "\n",
              "  const next = steps.next(outputElement.lastPromiseValue);\n",
              "  return Promise.resolve(next.value.promise).then((value) => {\n",
              "    // Cache the last promise value to make it available to the next\n",
              "    // step of the generator.\n",
              "    outputElement.lastPromiseValue = value;\n",
              "    return next.value.response;\n",
              "  });\n",
              "}\n",
              "\n",
              "/**\n",
              " * Generator function which is called between each async step of the upload\n",
              " * process.\n",
              " * @param {string} inputId Element ID of the input file picker element.\n",
              " * @param {string} outputId Element ID of the output display.\n",
              " * @return {!Iterable<!Object>} Iterable of next steps.\n",
              " */\n",
              "function* uploadFilesStep(inputId, outputId) {\n",
              "  const inputElement = document.getElementById(inputId);\n",
              "  inputElement.disabled = false;\n",
              "\n",
              "  const outputElement = document.getElementById(outputId);\n",
              "  outputElement.innerHTML = '';\n",
              "\n",
              "  const pickedPromise = new Promise((resolve) => {\n",
              "    inputElement.addEventListener('change', (e) => {\n",
              "      resolve(e.target.files);\n",
              "    });\n",
              "  });\n",
              "\n",
              "  const cancel = document.createElement('button');\n",
              "  inputElement.parentElement.appendChild(cancel);\n",
              "  cancel.textContent = 'Cancel upload';\n",
              "  const cancelPromise = new Promise((resolve) => {\n",
              "    cancel.onclick = () => {\n",
              "      resolve(null);\n",
              "    };\n",
              "  });\n",
              "\n",
              "  // Wait for the user to pick the files.\n",
              "  const files = yield {\n",
              "    promise: Promise.race([pickedPromise, cancelPromise]),\n",
              "    response: {\n",
              "      action: 'starting',\n",
              "    }\n",
              "  };\n",
              "\n",
              "  cancel.remove();\n",
              "\n",
              "  // Disable the input element since further picks are not allowed.\n",
              "  inputElement.disabled = true;\n",
              "\n",
              "  if (!files) {\n",
              "    return {\n",
              "      response: {\n",
              "        action: 'complete',\n",
              "      }\n",
              "    };\n",
              "  }\n",
              "\n",
              "  for (const file of files) {\n",
              "    const li = document.createElement('li');\n",
              "    li.append(span(file.name, {fontWeight: 'bold'}));\n",
              "    li.append(span(\n",
              "        `(${file.type || 'n/a'}) - ${file.size} bytes, ` +\n",
              "        `last modified: ${\n",
              "            file.lastModifiedDate ? file.lastModifiedDate.toLocaleDateString() :\n",
              "                                    'n/a'} - `));\n",
              "    const percent = span('0% done');\n",
              "    li.appendChild(percent);\n",
              "\n",
              "    outputElement.appendChild(li);\n",
              "\n",
              "    const fileDataPromise = new Promise((resolve) => {\n",
              "      const reader = new FileReader();\n",
              "      reader.onload = (e) => {\n",
              "        resolve(e.target.result);\n",
              "      };\n",
              "      reader.readAsArrayBuffer(file);\n",
              "    });\n",
              "    // Wait for the data to be ready.\n",
              "    let fileData = yield {\n",
              "      promise: fileDataPromise,\n",
              "      response: {\n",
              "        action: 'continue',\n",
              "      }\n",
              "    };\n",
              "\n",
              "    // Use a chunked sending to avoid message size limits. See b/62115660.\n",
              "    let position = 0;\n",
              "    do {\n",
              "      const length = Math.min(fileData.byteLength - position, MAX_PAYLOAD_SIZE);\n",
              "      const chunk = new Uint8Array(fileData, position, length);\n",
              "      position += length;\n",
              "\n",
              "      const base64 = btoa(String.fromCharCode.apply(null, chunk));\n",
              "      yield {\n",
              "        response: {\n",
              "          action: 'append',\n",
              "          file: file.name,\n",
              "          data: base64,\n",
              "        },\n",
              "      };\n",
              "\n",
              "      let percentDone = fileData.byteLength === 0 ?\n",
              "          100 :\n",
              "          Math.round((position / fileData.byteLength) * 100);\n",
              "      percent.textContent = `${percentDone}% done`;\n",
              "\n",
              "    } while (position < fileData.byteLength);\n",
              "  }\n",
              "\n",
              "  // All done.\n",
              "  yield {\n",
              "    response: {\n",
              "      action: 'complete',\n",
              "    }\n",
              "  };\n",
              "}\n",
              "\n",
              "scope.google = scope.google || {};\n",
              "scope.google.colab = scope.google.colab || {};\n",
              "scope.google.colab._files = {\n",
              "  _uploadFiles,\n",
              "  _uploadFilesContinue,\n",
              "};\n",
              "})(self);\n",
              "</script> "
            ],
            "text/plain": [
              "<IPython.core.display.HTML object>"
            ]
          },
          "metadata": {},
          "output_type": "display_data"
        },
        {
          "name": "stdout",
          "output_type": "stream",
          "text": [
            "Saving test.wav to test (2).wav\n"
          ]
        }
      ],
      "source": [
        "from google.colab import files\n",
        "\n",
        "uploaded = files.upload()\n",
        "audio_file_path = list(uploaded.keys())[0]  # Get the name of the uploaded file"
      ]
    },
    {
      "cell_type": "markdown",
      "id": "xphzaATf6-6e",
      "metadata": {
        "id": "xphzaATf6-6e"
      },
      "source": [
        "### **4. Define the `split_audio` Function**\n",
        "\n",
        "This function splits an audio file into smaller chunks of a specified duration. This is useful for processing long audio files that exceed the API's input length limit."
      ]
    },
    {
      "cell_type": "code",
      "execution_count": 30,
      "id": "QeFprHO1uSrV",
      "metadata": {
        "id": "QeFprHO1uSrV"
      },
      "outputs": [],
      "source": [
        "def split_audio(audio_path, chunk_duration_ms):\n",
        "    \"\"\"\n",
        "    Splits an audio file into smaller chunks of specified duration.\n",
        "\n",
        "    Args:\n",
        "        audio_path (str): Path to the audio file to be split.\n",
        "        chunk_duration_ms (int): Duration of each chunk in milliseconds.\n",
        "\n",
        "    Returns:\n",
        "        list: A list of AudioSegment objects representing the audio chunks.\n",
        "    \"\"\"\n",
        "    audio = AudioSegment.from_file(audio_path)  # Load the audio file\n",
        "    chunks = []\n",
        "    if len(audio) > chunk_duration_ms:\n",
        "        # Split the audio into chunks of the specified duration\n",
        "        for i in range(0, len(audio), chunk_duration_ms):\n",
        "            chunks.append(audio[i:i + chunk_duration_ms])\n",
        "    else:\n",
        "        # If the audio is shorter than the chunk duration, use the entire audio\n",
        "        chunks.append(audio)\n",
        "    return chunks"
      ]
    },
    {
      "cell_type": "markdown",
      "id": "bm0pktY98Ccs",
      "metadata": {
        "id": "bm0pktY98Ccs"
      },
      "source": [
        "### **5. Define the `transcribe_audio_chunks` Function**\n",
        "\n",
        "This function transcribes audio chunks using the Saaras API. It handles the API request for each chunk and collates the results.\n",
        "**bold text**"
      ]
    },
    {
      "cell_type": "code",
      "execution_count": 31,
      "id": "WCpE_Rv16Rjl",
      "metadata": {
        "id": "WCpE_Rv16Rjl"
      },
      "outputs": [],
      "source": [
        "def transcribe_audio_chunks(audio_file_path, api_url, headers, data, chunk_duration_ms=5*60*1000):\n",
        "    \"\"\"\n",
        "    Transcribes audio chunks using the Speech-to-Text API.\n",
        "\n",
        "    Args:\n",
        "        audio_file_path (str): Path to the audio file.\n",
        "        api_url (str): The API endpoint URL for Speech-to-Text.\n",
        "        headers (dict): Headers containing authentication information.\n",
        "        data (dict): Data payload for the transcription API.\n",
        "        chunk_duration_ms (int): Duration of each audio chunk in milliseconds.\n",
        "\n",
        "    Returns:\n",
        "        dict: Collated response containing the transcript.\n",
        "    \"\"\"\n",
        "    # Split the audio into chunks\n",
        "    chunks = split_audio(audio_file_path, chunk_duration_ms)\n",
        "    responses = []  # List to store the transcription results\n",
        "\n",
        "    # Process each chunk\n",
        "    for idx, chunk in enumerate(chunks):\n",
        "        # Export the chunk to a BytesIO object (in-memory binary stream)\n",
        "        chunk_buffer = io.BytesIO()\n",
        "        chunk.export(chunk_buffer, format=\"wav\")\n",
        "        chunk_buffer.seek(0)  # Reset the pointer to the start of the stream\n",
        "\n",
        "        # Prepare the file for the API request\n",
        "        files = {'file': ('audiofile.wav', chunk_buffer, 'audio/wav')}\n",
        "\n",
        "        try:\n",
        "            # Make the POST request to the API\n",
        "            response = requests.post(api_url, headers=headers, files=files, data=data)\n",
        "            if response.status_code == 200 or response.status_code == 201:\n",
        "                print(f\"Chunk {idx} POST Request Successful!\")\n",
        "                response_data = response.json()\n",
        "                transcript = response_data.get(\"transcript\", \"\")\n",
        "                responses.append({\"transcript\": transcript})\n",
        "            else:\n",
        "                # Handle failed requests\n",
        "                print(f\"Chunk {idx} POST Request failed with status code: {response.status_code}\")\n",
        "                print(\"Response:\", response.text)\n",
        "        except Exception as e:\n",
        "            # Handle any exceptions during the request\n",
        "            print(f\"Error processing chunk {idx}: {e}\")\n",
        "        finally:\n",
        "            # Ensure the buffer is closed after processing\n",
        "            chunk_buffer.close()\n",
        "\n",
        "    # Collate the transcriptions from all chunks\n",
        "    collated_responses = {\"collated_transcript\": \" \".join([i[\"transcript\"] for i in responses])}\n",
        "    return collated_responses"
      ]
    },
    {
      "cell_type": "markdown",
      "id": "7CorqAF18cZF",
      "metadata": {
        "id": "7CorqAF18cZF"
      },
      "source": [
        "### **6. Transcribe the Audio**\n",
        "\n",
        "This section calls the `transcribe_audio_chunks` function to transcribe the audio file. Replace `audio_file_path` with the path to your audio file"
      ]
    },
    {
      "cell_type": "code",
      "execution_count": 32,
      "id": "m9N7-WBw6jS8",
      "metadata": {
        "colab": {
          "base_uri": "https://localhost:8080/"
        },
        "id": "m9N7-WBw6jS8",
        "outputId": "5ffbcb7b-9e46-4cfe-f0d0-ffca240fd376"
      },
      "outputs": [
        {
          "name": "stdout",
          "output_type": "stream",
          "text": [
            "Chunk 0 POST Request Successful!\n"
          ]
        },
        {
          "data": {
            "text/plain": [
              "{'collated_transcript': 'अंग्रेज़ी में बच्चों के लिए लाभ से प्रपूर्ण अनेक नैतिक कहानियाँ हैं। वे आपके बच्चे की कल्पना को सक्रिय करते हैं, उनका मनोरंजन करते हैं और उन्हें खुश करते हैं। फूटी नैतिक कहानियाँ उनका ध्यान बनाए रखने और पूरी कहानी के दौरान उन्हें ध्यान केंद्रित रखने के लिए आदर्श हैं।'}"
            ]
          },
          "execution_count": 32,
          "metadata": {},
          "output_type": "execute_result"
        }
      ],
      "source": [
        "# Path to the audio file to be transcribed\n",
        "# audio_file_path = \"test.wav\"  # Replace with your file path\n",
        "\n",
        "# Transcribe the audio\n",
        "transcriptions = transcribe_audio_chunks(audio_file_path, api_url, headers, data)\n",
        "\n",
        "# Display the transcription results\n",
        "transcriptions"
      ]
    },
    {
      "cell_type": "markdown",
      "id": "seDzWdnC83Yk",
      "metadata": {
        "id": "seDzWdnC83Yk"
      },
      "source": [
        "### **6. Explanation of the Output**\n",
        "\n",
        "The output of the `transcribe_audio_chunks` function is a dictionary containing the collated transcript of the entire audio file. If the audio was split into multiple chunks, the transcripts from all chunks are combined into a single string.\n",
        "\n",
        "Example output:\n",
        "\n",
        "```{\n",
        "    \"collated_transcript\": \"This is the transcribed text from the audio file.\"\n",
        "}```\n",
        "\n",
        "### **7. Conclusion**\n",
        "\n",
        "This tutorial demonstrated how to use the **STT API** for speech-to-text transcription. By following the steps, you can transcribe audio files, even long ones, by splitting them into smaller chunks. The process involves installing required libraries, setting up your API key, uploading audio, and transcribing it using the provided functions.\n",
        "\n",
        "---\n",
        "\n",
        "### **8. Additional Resources**\n",
        "\n",
        "For more details, refer to the our official documentation and we are always there to support and help you on our Discord Server:\n",
        "\n",
        "- **Documentation**: [docs.sarvam.ai](https://docs.sarvam.ai)  \n",
        "- **Community**: [Join the Discord Community](https://discord.gg/hTuVuPNF)\n",
        "\n",
        "---\n",
        "\n",
        "### **9. Final Notes**\n",
        "\n",
        "- Keep your API key secure.\n",
        "- Use clear audio for best results.\n",
        "- Explore advanced features like diarization and translation.\n",
        "\n",
        "**Keep Building!** 🚀"
      ]
    },
    {
      "cell_type": "code",
      "execution_count": null,
      "id": "yTl30sXzqXjv",
      "metadata": {
        "id": "yTl30sXzqXjv"
      },
      "outputs": [],
      "source": []
    }
  ],
  "metadata": {
    "colab": {
      "provenance": []
    },
    "kernelspec": {
      "display_name": "Python 3 (ipykernel)",
      "language": "python",
      "name": "python3"
    },
    "language_info": {
      "codemirror_mode": {
        "name": "ipython",
        "version": 3
      },
      "file_extension": ".py",
      "mimetype": "text/x-python",
      "name": "python",
      "nbconvert_exporter": "python",
      "pygments_lexer": "ipython3",
      "version": "3.10.13"
    }
  },
  "nbformat": 4,
  "nbformat_minor": 5
}
