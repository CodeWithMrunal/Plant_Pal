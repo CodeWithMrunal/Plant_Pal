{
  "nbformat": 4,
  "nbformat_minor": 0,
  "metadata": {
    "colab": {
      "provenance": []
    },
    "kernelspec": {
      "name": "python3",
      "display_name": "Python 3"
    },
    "language_info": {
      "name": "python"
    }
  },
  "cells": [
    {
      "cell_type": "markdown",
      "source": [
        "# **Text-to-Speech Conversion using Sarvam AI API**\n",
        "\n",
        "This notebook demonstrates how to convert text into speech using the Sarvam AI Text-to-Speech API.The resulting audio files are saved as `.wav` files."
      ],
      "metadata": {
        "id": "3-IADGdpqr1r"
      }
    },
    {
      "cell_type": "markdown",
      "source": [
        "## **Prerequisites**\n",
        "\n",
        "Before running this notebook, ensure you have the following installed:\n",
        "\n",
        "- Python 3.7 or higher\n",
        "- Required Python packages: `requests`, `base64`, `wave`\n",
        "\n",
        "You can install the required packages using pip:"
      ],
      "metadata": {
        "id": "03ysDeEzq3cK"
      }
    },
    {
      "cell_type": "code",
      "source": [
        "!pip install requests\n"
      ],
      "metadata": {
        "colab": {
          "base_uri": "https://localhost:8080/"
        },
        "id": "yKyh-z3eq-Ss",
        "outputId": "c36864b8-66cf-4550-c0c9-12100a3e4feb"
      },
      "execution_count": null,
      "outputs": [
        {
          "output_type": "stream",
          "name": "stdout",
          "text": [
            "Requirement already satisfied: requests in /usr/local/lib/python3.10/dist-packages (2.32.3)\n",
            "Requirement already satisfied: charset-normalizer<4,>=2 in /usr/local/lib/python3.10/dist-packages (from requests) (3.4.1)\n",
            "Requirement already satisfied: idna<4,>=2.5 in /usr/local/lib/python3.10/dist-packages (from requests) (3.10)\n",
            "Requirement already satisfied: urllib3<3,>=1.21.1 in /usr/local/lib/python3.10/dist-packages (from requests) (2.3.0)\n",
            "Requirement already satisfied: certifi>=2017.4.17 in /usr/local/lib/python3.10/dist-packages (from requests) (2024.12.14)\n"
          ]
        }
      ]
    },
    {
      "cell_type": "markdown",
      "source": [
        "## **Import Required Libraries**\n",
        "\n",
        "First, let's import all the necessary libraries."
      ],
      "metadata": {
        "id": "vL9wgNLprBap"
      }
    },
    {
      "cell_type": "code",
      "source": [
        "import requests\n",
        "import base64\n",
        "import wave\n"
      ],
      "metadata": {
        "id": "f63ac1TJrIkb"
      },
      "execution_count": null,
      "outputs": []
    },
    {
      "cell_type": "markdown",
      "source": [
        "### **2. Set Up the API Endpoint and Payload**\n",
        "\n",
        "To use the Saaras API, you need an API subscription key. Follow these steps to set up your API key:\n",
        "\n",
        "1. **Obtain your API key**: If you don’t have an API key, sign up on the [Sarvam AI Dashboard](https://dashboard.sarvam.ai/) to get one.\n",
        "2. **Replace the placeholder key**: In the code below, replace \"YOUR_SARVAM_AI_API_KEY\" with your actual API key."
      ],
      "metadata": {
        "id": "26lnUT4MeOha"
      }
    },
    {
      "cell_type": "code",
      "source": [
        "SARVAM_AI_API=\"YOUR_SARVAM_AI_API_KEY\"\n"
      ],
      "metadata": {
        "id": "n30Me3uteNa0"
      },
      "execution_count": null,
      "outputs": []
    },
    {
      "cell_type": "markdown",
      "source": [
        "### **Setting Up the API Endpoint and Payload**\n",
        "\n",
        "This section defines the API endpoint and the payload for the translation request. Replace the placeholder values with your actual API key and desired parameters."
      ],
      "metadata": {
        "id": "1VptkSzgrPd0"
      }
    },
    {
      "cell_type": "code",
      "source": [
        "# API endpoint and headers\n",
        "url = \"https://api.sarvam.ai/text-to-speech\"\n",
        "headers = {\n",
        "    \"Content-Type\": \"application/json\",\n",
        "    \"api-subscription-key\": SARVAM_AI_API  # Replace with your valid API key\n",
        "}\n",
        "\n",
        "\n",
        "\n"
      ],
      "metadata": {
        "id": "S4quBNp9rVLg"
      },
      "execution_count": null,
      "outputs": []
    },
    {
      "cell_type": "markdown",
      "source": [
        "### **Text to be converted into speech**"
      ],
      "metadata": {
        "id": "igg1vg5ceE7P"
      }
    },
    {
      "cell_type": "code",
      "source": [
        "text = \"\"\"\n",
        "Netaji Subhash Marg से Dayanand Road की तरफ, south की तरफ़ जाने से शुरू करें। Dayanand Road पर पहुँचने के बाद, बाएँ मुड़ जाएँ। 350 meters तक सीधा चलते रहें।आपको बायें तरफ़, United Bank of India ATM दिखेगा। Dayanand School के दाएँ तरफ़ से गुजरने के बाद, बाएँ मुड़ें।\n",
        "120 meters के बाद, Ghata Masjid Road पर, right turn करें।\n",
        "280 meters तक चलते रहें।\n",
        "Mahatma Gandhi Marg पे रहें और, 2.9 kilometers तक Old Delhi की तरफ जाएँ।\n",
        "फिर, HC Sen Marg पर continue करें, और Paranthe Wali Gali तक drive करें।\n",
        "\"\"\""
      ],
      "metadata": {
        "id": "uz68BWWKeDVa"
      },
      "execution_count": null,
      "outputs": []
    },
    {
      "cell_type": "markdown",
      "source": [
        "## **Split Text into Chunks**\n",
        "\n",
        "The Sarvam AI API may have a limit on the number of characters per request. To handle this, we split the text into chunks of 500 characters or less."
      ],
      "metadata": {
        "id": "fjZPNARIrZlM"
      }
    },
    {
      "cell_type": "code",
      "source": [
        "# Split the text into chunks of 500 characters or less\n",
        "chunk_size = 500\n",
        "chunks = [text[i:i + chunk_size] for i in range(0, len(text), chunk_size)]\n",
        "\n",
        "# Print the number of chunks\n",
        "print(f\"Total chunks: {len(chunks)}\")\n"
      ],
      "metadata": {
        "colab": {
          "base_uri": "https://localhost:8080/"
        },
        "id": "OJdwpVV5rcHb",
        "outputId": "e07f66be-7815-4386-f98a-0857c3f9442f"
      },
      "execution_count": null,
      "outputs": [
        {
          "output_type": "stream",
          "name": "stdout",
          "text": [
            "Total chunks: 1\n"
          ]
        }
      ]
    },
    {
      "cell_type": "markdown",
      "source": [
        "## **Process Each Chunk**\n",
        "\n",
        "Iterate over each chunk, send it to the Sarvam AI API, and save the resulting audio as a `.wav` file."
      ],
      "metadata": {
        "id": "AkQvwc8Ard9p"
      }
    },
    {
      "cell_type": "code",
      "source": [
        "# Iterate over each chunk and make the API call\n",
        "for i, chunk in enumerate(chunks):\n",
        "    # Prepare the payload for the API request\n",
        "    payload = {\n",
        "        \"inputs\": [chunk],\n",
        "        \"target_language_code\": \"kn-IN\",  # Target language code (Kannada in this case)\n",
        "        \"speaker\": \"neel\",  # Speaker voice\n",
        "        \"model\": \"bulbul:v1\",  # Model to use\n",
        "        \"pitch\": 0,  # Pitch adjustment\n",
        "        \"pace\": 1.0,  # Speed of speech\n",
        "        \"loudness\": 1.0,  # Volume adjustment\n",
        "        \"enable_preprocessing\": True,  # Enable text preprocessing\n",
        "    }\n",
        "\n",
        "    # Make the API request\n",
        "    response = requests.post(url, json=payload, headers=headers)\n",
        "\n",
        "    # Check if the request was successful\n",
        "    if response.status_code == 200:\n",
        "        # Decode the base64-encoded audio data\n",
        "        audio = response.json()[\"audios\"][0]\n",
        "        audio = base64.b64decode(audio)\n",
        "\n",
        "        # Save the audio as a .wav file\n",
        "        with wave.open(f\"output{i}.wav\", \"wb\") as wav_file:\n",
        "            # Set the parameters for the .wav file\n",
        "            wav_file.setnchannels(1)  # Mono audio\n",
        "            wav_file.setsampwidth(2)  # 2 bytes per sample\n",
        "            wav_file.setframerate(22050)  # Sample rate of 22050 Hz\n",
        "\n",
        "            # Write the audio data to the file\n",
        "            wav_file.writeframes(audio)\n",
        "\n",
        "        print(f\"Audio file {i} saved successfully as 'output{i}.wav'!\")\n",
        "    else:\n",
        "        # Handle errors\n",
        "        print(f\"Error for chunk {i}: {response.status_code}\")\n",
        "        print(response.json())\n"
      ],
      "metadata": {
        "colab": {
          "base_uri": "https://localhost:8080/"
        },
        "id": "afoJ26fArhCS",
        "outputId": "caaed5d3-995c-47e3-8d28-3b84706e5380"
      },
      "execution_count": null,
      "outputs": [
        {
          "output_type": "stream",
          "name": "stdout",
          "text": [
            "Audio file 0 saved successfully as 'output0.wav'!\n"
          ]
        }
      ]
    },
    {
      "cell_type": "markdown",
      "source": [
        "## **Output**\n",
        "\n",
        "After running the notebook, you will have multiple `.wav` files (e.g., `output1.wav`, `output2.wav`, etc.) containing the speech for each chunk of text.\n",
        "\n",
        "## **Conclusion**\n",
        "This notebook provides a step-by-step guide to converting text into speech using the Sarvam AI API. You can modify the text, language, and other parameters to suit your specific needs.\n",
        "\n",
        "\n",
        "### **Additional Resources**\n",
        "\n",
        "For more details, refer to the our official documentation and we are always there to support and help you on our Discord Server:\n",
        "\n",
        "- **Documentation**: [docs.sarvam.ai](https://docs.sarvam.ai)  \n",
        "- **Community**: [Join the Discord Community](https://discord.gg/hTuVuPNF)\n",
        "\n",
        "---\n",
        "\n",
        "### **9. Final Notes**\n",
        "\n",
        "- Keep your API key secure.\n",
        "- Use clear audio for best results.\n",
        "\n",
        "**Keep Building!** 🚀"
      ],
      "metadata": {
        "id": "AYRy2TvfrmQM"
      }
    }
  ]
}