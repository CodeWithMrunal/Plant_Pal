{
  "cells": [
    {
      "cell_type": "markdown",
      "metadata": {
        "id": "vL9wgNLprBap"
      },
      "source": [
        "## **Import Required Libraries**\n",
        "\n",
        "First, let's import all the necessary libraries."
      ]
    },
    {
      "cell_type": "code",
      "execution_count": null,
      "metadata": {
        "id": "f63ac1TJrIkb"
      },
      "outputs": [],
      "source": [
        "import requests\n",
        "import base64\n",
        "import wave\n"
      ]
    },
    {
      "cell_type": "markdown",
      "metadata": {
        "id": "26lnUT4MeOha"
      },
      "source": [
        "### **2. Set Up the API Endpoint and Payload**\n",
        "\n",
        "To use the Saaras API, you need an API subscription key. Follow these steps to set up your API key:\n",
        "\n",
        "1. **Obtain your API key**: If you don’t have an API key, sign up on the [Sarvam AI Dashboard](https://dashboard.sarvam.ai/) to get one.\n",
        "2. **Replace the placeholder key**: In the code below, replace \"YOUR_SARVAM_AI_API_KEY\" with your actual API key."
      ]
    },
    {
      "cell_type": "code",
      "execution_count": null,
      "metadata": {
        "id": "n30Me3uteNa0"
      },
      "outputs": [],
      "source": [
        "SARVAM_AI_API=\"1c4070b8-7078-4aa2-b45b-14ce2fdf5eb5\"\n"
      ]
    },
    {
      "cell_type": "markdown",
      "metadata": {
        "id": "1VptkSzgrPd0"
      },
      "source": [
        "### **Setting Up the API Endpoint and Payload**\n",
        "\n",
        "This section defines the API endpoint and the payload for the translation request. Replace the placeholder values with your actual API key and desired parameters."
      ]
    },
    {
      "cell_type": "code",
      "execution_count": null,
      "metadata": {
        "id": "S4quBNp9rVLg"
      },
      "outputs": [],
      "source": [
        "# API endpoint and headers\n",
        "url = \"https://api.sarvam.ai/text-to-speech\"\n",
        "headers = {\n",
        "    \"Content-Type\": \"application/json\",\n",
        "    \"api-subscription-key\": SARVAM_AI_API  # Replace with your valid API key\n",
        "}\n",
        "\n",
        "\n",
        "\n"
      ]
    },
    {
      "cell_type": "markdown",
      "metadata": {
        "id": "AkQvwc8Ard9p"
      },
      "source": [
        "## **Process Each Chunk**\n",
        "\n",
        "Iterate over each chunk, send it to the Sarvam AI API, and save the resulting audio as a `.wav` file."
      ]
    },
    {
      "cell_type": "code",
      "execution_count": null,
      "metadata": {
        "colab": {
          "base_uri": "https://localhost:8080/"
        },
        "id": "afoJ26fArhCS",
        "outputId": "caaed5d3-995c-47e3-8d28-3b84706e5380"
      },
      "outputs": [
        {
          "name": "stdout",
          "output_type": "stream",
          "text": [
            "Audio file 0 saved successfully as 'output0.wav'!\n"
          ]
        }
      ],
      "source": [
        "# Iterate over each chunk and make the API call\n",
        "for i, chunk in enumerate(chunks):\n",
        "    # Prepare the payload for the API request\n",
        "    payload = {\n",
        "        \"inputs\": [chunk],\n",
        "        \"target_language_code\": \"hi-IN\",  # Target language code (Kannada in this case)\n",
        "        \"speaker\": \"neel\",  # Speaker voice\n",
        "        \"model\": \"bulbul:v1\",  # Model to use\n",
        "        \"pitch\": 0,  # Pitch adjustment\n",
        "        \"pace\": 1.0,  # Speed of speech\n",
        "        \"loudness\": 1.0,  # Volume adjustment\n",
        "        \"enable_preprocessing\": True,  # Enable text preprocessing\n",
        "    }\n",
        "\n",
        "    # Make the API request\n",
        "    response = requests.post(url, json=payload, headers=headers)\n",
        "\n",
        "    # Check if the request was successful\n",
        "    if response.status_code == 200:\n",
        "        # Decode the base64-encoded audio data\n",
        "        audio = response.json()[\"audios\"][0]\n",
        "        audio = base64.b64decode(audio)\n",
        "\n",
        "        # Save the audio as a .wav file\n",
        "        with wave.open(f\"output{i}.wav\", \"wb\") as wav_file:\n",
        "            # Set the parameters for the .wav file\n",
        "            wav_file.setnchannels(1)  # Mono audio\n",
        "            wav_file.setsampwidth(2)  # 2 bytes per sample\n",
        "            wav_file.setframerate(22050)  # Sample rate of 22050 Hz\n",
        "\n",
        "            # Write the audio data to the file\n",
        "            wav_file.writeframes(audio)\n",
        "\n",
        "        print(f\"Audio file {i} saved successfully as 'output{i}.wav'!\")\n",
        "    else:\n",
        "        # Handle errors\n",
        "        print(f\"Error for chunk {i}: {response.status_code}\")\n",
        "        print(response.json())\n"
      ]
    }
  ],
  "metadata": {
    "colab": {
      "provenance": []
    },
    "kernelspec": {
      "display_name": "Python 3",
      "name": "python3"
    },
    "language_info": {
      "name": "python",
      "version": "3.12.4"
    }
  },
  "nbformat": 4,
  "nbformat_minor": 0
}
